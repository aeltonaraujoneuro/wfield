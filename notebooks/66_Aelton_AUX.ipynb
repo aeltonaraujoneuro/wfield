{
 "cells": [
  {
   "cell_type": "markdown",
   "metadata": {},
   "source": [
    "# Importing Libraries\n"
   ]
  },
  {
   "cell_type": "code",
   "execution_count": 114,
   "metadata": {},
   "outputs": [],
   "source": [
    "from wfield import *\n",
    "import matplotlib.pyplot as plt\n",
    "import re\n",
    "import os\n",
    "import pandas as pd\n",
    "import h5py\n",
    "from scipy.ndimage import label\n",
    "import matplotlib.patches as patches\n",
    "from matplotlib.lines import Line2D\n"
   ]
  },
  {
   "cell_type": "markdown",
   "metadata": {},
   "source": [
    "# Defining functions"
   ]
  },
  {
   "cell_type": "code",
   "execution_count": 2,
   "metadata": {},
   "outputs": [],
   "source": [
    "def list_scans(data_folder, keyword):\n",
    "    # Find folders containing the keyword\n",
    "    scan_folders = [folder for folder in os.listdir(data_folder) if os.path.isdir(os.path.join(data_folder, folder)) and keyword in folder]\n",
    "\n",
    "    # Print list of found folders\n",
    "    print(f\"Folders containing '{keyword}' keyword:\")\n",
    "    for i, folder in enumerate(scan_folders):\n",
    "        print(f\"{i + 1}. {folder}\")\n",
    "\n",
    "    # Prompt user to choose a folder\n",
    "    while True:\n",
    "        choice = input(\"Enter the number of the scan you want to choose: \")\n",
    "        if choice.isdigit() and 1 <= int(choice) <= len(scan_folders):\n",
    "            chosen_folder = scan_folders[int(choice) - 1]\n",
    "            break\n",
    "        else:\n",
    "            print(\"Invalid input. Please enter a valid number.\")\n",
    "    print(\"Selected\",chosen_folder)\n",
    "    # Return the path to the chosen folder\n",
    "    return os.path.join(data_folder, chosen_folder), chosen_folder\n"
   ]
  },
  {
   "cell_type": "code",
   "execution_count": 3,
   "metadata": {},
   "outputs": [],
   "source": [
    "# # import os\n",
    "\n",
    "# def list_scans(data_folder, keyword):\n",
    "#     # Find folders containing the keyword and get their creation times\n",
    "#     scan_folders = [\n",
    "#         (folder, os.path.getctime(os.path.join(data_folder, folder)))\n",
    "#         for folder in os.listdir(data_folder)\n",
    "#         if os.path.isdir(os.path.join(data_folder, folder)) and keyword in folder\n",
    "#     ]\n",
    "\n",
    "#     # Sort folders based on creation time (newest first)\n",
    "#     scan_folders.sort(key=lambda x: x[1], reverse=True)\n",
    "\n",
    "#     # Print list of found folders\n",
    "#     print(f\"Folders containing '{keyword}' keyword:\")\n",
    "#     for i, (folder, _) in enumerate(scan_folders):\n",
    "#         print(f\"{i + 1}. {folder}\")\n",
    "\n",
    "#     # Prompt user to choose a folder\n",
    "#     while True:\n",
    "#         choice = input(\"Enter the number of the scan you want to choose: \")\n",
    "#         if choice.isdigit() and 1 <= int(choice) <= len(scan_folders):\n",
    "#             chosen_folder = scan_folders[int(choice) - 1][0]\n",
    "#             break\n",
    "#         else:\n",
    "#             print(\"Invalid input. Please enter a valid number.\")\n",
    "#     print(\"Selected\", chosen_folder)\n",
    "    \n",
    "#     # Return the path to the chosen folder\n",
    "#     return os.path.join(data_folder, chosen_folder), chosen_folder\n"
   ]
  },
  {
   "cell_type": "code",
   "execution_count": 4,
   "metadata": {},
   "outputs": [],
   "source": [
    "def demultiplex(auxdata, channels=5):\n",
    "    \"\"\"Demultiplex the digital data\"\"\"\n",
    "    auxdata = auxdata.flatten()\n",
    "    binary = [[int(x) for x in f'{x:0{channels}b}'] for x in auxdata]\n",
    "    return np.array(binary, dtype=bool).T"
   ]
  },
  {
   "cell_type": "code",
   "execution_count": 5,
   "metadata": {},
   "outputs": [],
   "source": [
    "def find_event_sizes(signal):\n",
    "    event_sizes = []\n",
    "    event_positions = []\n",
    "    trialON_idx = []\n",
    "    rewards_idx = []\n",
    "    event_start = None\n",
    "\n",
    "    for i, val in enumerate(signal):\n",
    "        if val == 1 and event_start is None:\n",
    "            event_start = i\n",
    "        elif val == 0 and event_start is not None:\n",
    "            event_duration = i - event_start\n",
    "            event_sizes.append(event_duration)\n",
    "            if event_duration > 10:\n",
    "                rewards_idx.append((event_start, i))\n",
    "            else:\n",
    "                trialON_idx.append((event_start, i))\n",
    "            # event_positions.append((event_start, i))\n",
    "            event_start = None\n",
    "\n",
    "    if event_start is not None:  # Handle case where the last event goes till the end\n",
    "        event_duration = len(signal) - event_start\n",
    "        event_sizes.append(event_duration)\n",
    "        event_positions.append((event_start, len(signal)))\n",
    "    \n",
    "    return event_sizes, trialON_idx,rewards_idx"
   ]
  },
  {
   "cell_type": "code",
   "execution_count": 6,
   "metadata": {},
   "outputs": [],
   "source": [
    "def list_bpod(localdisk):\n",
    "    import scipy.io\n",
    "    mat_files = glob(pjoin(localdisk,'*.mat'))\n",
    "    if len(mat_files) > 1:\n",
    "        print(\"Multiple Bpod files found:\")\n",
    "        for i, mat_file in enumerate(mat_files):\n",
    "            print(f\"{i + 1}. {os.path.basename(mat_file)}\")\n",
    "        \n",
    "        while True:\n",
    "            choice = input(\"Enter the number of the .dat file you want to choose: \")\n",
    "            if choice.isdigit() and 1 <= int(choice) <= len(mat_files):\n",
    "                mat_path = mat_files[int(choice) - 1]\n",
    "                break\n",
    "            else:\n",
    "                print(\"Invalid input. Please enter a valid number.\")\n",
    "    elif len(mat_files) == 1:\n",
    "        mat_path = mat_files[0]\n",
    "        print(\"Bpod file found\")\n",
    "        print(\"Loading...\")\n",
    "    else:\n",
    "        print(\"Bpod file not found\")\n",
    "        print(\"-----------------------\")\n",
    "    \n",
    "    try:\n",
    "        bpod_data = scipy.io.loadmat(mat_path)\n",
    "        print(\"Selected\", os.path.basename(mat_path))\n",
    "    except:\n",
    "        print(\"Failed\")\n",
    "    return bpod_data\n"
   ]
  },
  {
   "cell_type": "code",
   "execution_count": 7,
   "metadata": {},
   "outputs": [],
   "source": [
    "# Load the HDF5 file and read the necessary datasets\n",
    "def load_h5_data(h5_path):\n",
    "    with h5py.File(h5_path, 'r') as f:\n",
    "        sweep_data_key = list(f.keys())[1]\n",
    "        sweep_data = f[sweep_data_key]\n",
    "        header = f['header']\n",
    "\n",
    "        AIChannelNames = header['AIChannelNames'][:]\n",
    "        DIChannelNames = header['DIChannelNames'][:]\n",
    "        YLimitsPerAIChannel = header['YLimitsPerAIChannel'][:]\n",
    "        AIChannelNames = [name.decode('utf-8') for name in AIChannelNames]\n",
    "        DIChannelNames = [name.decode('utf-8') for name in DIChannelNames]\n",
    "        SampleRate = header['AcquisitionSampleRate'][:]\n",
    "\n",
    "        analogData = sweep_data['analogScans'][:]\n",
    "        digitalData = sweep_data['digitalScans'][:]\n",
    "\n",
    "        return AIChannelNames, DIChannelNames, SampleRate[0, 0], analogData, digitalData\n",
    "\n",
    "# Convert analogData and digitalData to DataFrame\n",
    "def create_dataframe(ai_channel_names, di_channel_names, sample_rate, analog_data, digital_data):\n",
    "    # Create DataFrame for analog data\n",
    "    df_analog = pd.DataFrame(analog_data.T, columns=ai_channel_names)\n",
    "\n",
    "    # Create DataFrame for digital data\n",
    "    df_digital = pd.DataFrame(digital_data.T, columns=di_channel_names)\n",
    "\n",
    "    # Concatenate analog and digital data\n",
    "    df = pd.concat([df_analog, df_digital], axis=1)\n",
    "\n",
    "    # Add time column\n",
    "    df['time_seconds'] = df.index / sample_rate\n",
    "\n",
    "    return df"
   ]
  },
  {
   "cell_type": "code",
   "execution_count": 8,
   "metadata": {},
   "outputs": [],
   "source": [
    "def extract_trials(data, idx_list, pre_window, post_window):\n",
    "    trials = []\n",
    "    for start, end in idx_list:\n",
    "        trial_start = max(0, start - pre_window)\n",
    "        trial_end = min(len(data), end + post_window)\n",
    "        trial_data = data[trial_start:trial_end]\n",
    "        trials.append(trial_data)\n",
    "    return trials"
   ]
  },
  {
   "cell_type": "markdown",
   "metadata": {},
   "source": [
    "# Reading Aux file"
   ]
  },
  {
   "cell_type": "code",
   "execution_count": 44,
   "metadata": {},
   "outputs": [
    {
     "name": "stdout",
     "output_type": "stream",
     "text": [
      "Folders containing 'AA' keyword:\n",
      "1. Preconditioning_AA_ROS-1792_2024-06-06_scan9FOHHCKE_sess9FOHHCKE\n",
      "2. Preconditioning_AA_ROS-1783_2024-06-06_scan9FOHGI54_sess9FOHGI54\n",
      "3. Preconditioning_AA_ROS-1783_2024-06-04_scan9FOGAODU_sess9FOGAODU\n",
      "4. Oddball_AA_ROS-1706_2024-03-12_scan9FN2BCOS_sess9FN2ANVG\n",
      "5. Preconditioning_AA_ROS-1783_2024-06-07_scan9FOI2GOW_sess9FOI2GOW\n",
      "6. PassConditioning_AA_ROS-1792_2024-06-10_scan9FOJUE5S_sess9FOJUE5S\n",
      "7. AA_ROS-1688_2024_01_27_scan000WQU9_sess000EAEIO\n",
      "8. Habituation_AA_ROS-1783_2024-05-28_scan9FOC20QN_sess9FOC1CUS\n",
      "9. Preconditioning_AA_ROS-1783_2024-06-05_scan9FOGVB9K_sess9FOGVB9K\n",
      "10. AA_ROS-1706_2024-03-12_scan9FN2ANVG_sess9FN2ANVG\n",
      "11. PassConditioning_AA_ROS-1783_2024-06-09_scan9FOJAPFP_sess9FOJAPFP\n",
      "12. Habituation_AA_ROS-1792_2024-06-04_scan9FOG9RQH_sess9FOG9RQH\n",
      "13. Habituation_AA_ROS-1783_2024-05-31_scan9FODV06V_sess9FODV06V\n",
      "14. Habituation_AA_ROS-1792_2024-06-03_scan9FOFOHYM_sess9FOFOHYM\n",
      "15. Preconditioning_AA_ROS-1792_2024-06-07_scan9FOI1FRY_sess9FOI1FRY\n",
      "16. AtivConditioning_AA_ROS-1783_2024-06-10_scan9FOJU4V9_sess9FOJU4V9\n",
      "17. Habituation_AA_ROS-1792_2024-05-28_scan9FOC2ZC0_sess9FOC2ZC0\n",
      "18. Preconditioning_AA_ROS-1783_2024-06-03_scan9FOFPDZ5_sess9FOFPDZ5\n",
      "19. PassConditioning_AA_ROS-1792_2024-06-10_scan9FOJVAWJ_sess9FOJUE5S\n",
      "20. Habituation_AA_ROS-1783_2024-05-27_scan9FOBHGME_sess9FOBHGME\n",
      "21. Habituation_AA_ROS-1783_2024-05-29_scan9FOCOYKP_sess9FOCOYKP\n",
      "22. Habituation_AA_ROS-1792_2024-05-29_scan9FOCO8OP_sess9FOCO8OP\n",
      "23. AA_ROS-1688_2024_01_27_scan000EAEIO_sess000EAEIO\n",
      "24. Preconditioning_AA_ROS-1792_2024-06-05_scan9FOGUAUP_sess9FOGUAUP\n",
      "25. Habituation_AA_ROS-1792_2024-05-31_scan9FODTU50_sess9FODTU50\n",
      "26. PassConditioning_AA_ROS-1783_2024-06-08_scan9FOIPM7X_sess9FOIPM7X\n",
      "27. AtivConditioning_AA_ROS-1783_2024-06-09_scan9FOJAXWZ_sess9FOJAXWZ\n",
      "28. Preconditioning_AA_ROS-1792_2024-06-08_scan9FOIQ9VQ_sess9FOIQ9VQ\n",
      "29. Habituation_AA_ROS-1792_2024-05-27_scan9FOBGEJH_sess9FOBGEJH\n",
      "Selected PassConditioning_AA_ROS-1783_2024-06-08_scan9FOIPM7X_sess9FOIPM7X\n"
     ]
    }
   ],
   "source": [
    "data_folder = r'/datajoint-data/data/aeltona/'\n",
    "localdisk, scan_idx = list_scans(data_folder,\"AA\")"
   ]
  },
  {
   "cell_type": "code",
   "execution_count": 25,
   "metadata": {},
   "outputs": [
    {
     "data": {
      "text/plain": [
       "'/datajoint-data/data/aeltona/Habituation_AA_ROS-1792_2024-06-04_scan9FOG9RQH_sess9FOG9RQH/scan9FOG9RQH_Habituation_Habituation_AA_ROS-1792_0002.h5'"
      ]
     },
     "execution_count": 25,
     "metadata": {},
     "output_type": "execute_result"
    }
   ],
   "source": [
    "h5_path = glob(pjoin(localdisk,'*.h5'))[0]\n",
    "h5_path"
   ]
  },
  {
   "cell_type": "code",
   "execution_count": 26,
   "metadata": {},
   "outputs": [],
   "source": [
    "\n",
    "# Open the HDF5 file\n",
    "with h5py.File(h5_path, 'r') as f:\n",
    "    sweep_data_key = list(f.keys())[1]\n",
    "    # print(sweep_data_key)\n",
    "    sweep_data = f[sweep_data_key]\n",
    "    # print(sweep_data.keys())\n",
    "    header = f['header'] \n",
    "    # print(header.keys())    \n",
    "    AIChannelNames = header['AIChannelNames'][:]\n",
    "    DIChannelNames = header['DIChannelNames']\n",
    "    DIChannelTerminalIDs = header['DIChannelTerminalIDs'][:]\n",
    "    YLimitsPerAIChannel = header['YLimitsPerAIChannel'][:]\n",
    "    AIChannelNames = [name.decode('utf-8') for name in AIChannelNames]\n",
    "    DIChannelNames = [name.decode('utf-8') for name in DIChannelNames]\n",
    "    SampleRate = header['AcquisitionSampleRate'][:]\n",
    "    analogData = sweep_data['analogScans'][:]\n",
    "    digitalData = sweep_data['digitalScans'][:]"
   ]
  },
  {
   "cell_type": "code",
   "execution_count": 27,
   "metadata": {},
   "outputs": [
    {
     "data": {
      "text/plain": [
       "['FakeReward', 'VisStim_ON']"
      ]
     },
     "execution_count": 27,
     "metadata": {},
     "output_type": "execute_result"
    }
   ],
   "source": [
    "DIChannelNames"
   ]
  },
  {
   "cell_type": "code",
   "execution_count": 28,
   "metadata": {},
   "outputs": [],
   "source": [
    "sampling_rate_hz = int(SampleRate[0,0])\n"
   ]
  },
  {
   "cell_type": "code",
   "execution_count": 29,
   "metadata": {},
   "outputs": [
    {
     "data": {
      "text/plain": [
       "Index(['camera_trigger', 'blue_470nm', 'violet_405nm', 'HIFI', 'Reward',\n",
       "       'TrialTypeON', 'Licks', 'Rotary Encoder', 'time_seconds'],\n",
       "      dtype='object')"
      ]
     },
     "execution_count": 29,
     "metadata": {},
     "output_type": "execute_result"
    }
   ],
   "source": [
    "# Convert analogData to DataFrame\n",
    "df = pd.DataFrame(analogData.T, columns=AIChannelNames)\n",
    "sampling_rate_hz = int(SampleRate[0,0])\n",
    "df['time_seconds'] = df.index / sampling_rate_hz\n",
    "# Print DataFrame\n",
    "# print(df)\n",
    "df.columns"
   ]
  },
  {
   "cell_type": "markdown",
   "metadata": {},
   "source": [
    "## Digital channels"
   ]
  },
  {
   "cell_type": "code",
   "execution_count": 30,
   "metadata": {},
   "outputs": [
    {
     "data": {
      "text/plain": [
       "['FakeReward', 'VisStim_ON']"
      ]
     },
     "execution_count": 30,
     "metadata": {},
     "output_type": "execute_result"
    }
   ],
   "source": [
    "DIChannelNames"
   ]
  },
  {
   "cell_type": "code",
   "execution_count": 31,
   "metadata": {},
   "outputs": [],
   "source": [
    "digital_scans = demultiplex(digitalData[0], len(DIChannelNames))\n"
   ]
  },
  {
   "cell_type": "code",
   "execution_count": 303,
   "metadata": {},
   "outputs": [
    {
     "data": {
      "text/plain": [
       "(2, 47199488)"
      ]
     },
     "execution_count": 303,
     "metadata": {},
     "output_type": "execute_result"
    }
   ],
   "source": [
    "digital_scans.shape"
   ]
  },
  {
   "cell_type": "code",
   "execution_count": 304,
   "metadata": {},
   "outputs": [],
   "source": [
    "# plt.plot(digital_scans[1]);"
   ]
  },
  {
   "cell_type": "code",
   "execution_count": 34,
   "metadata": {},
   "outputs": [],
   "source": [
    "df[DIChannelNames[0]] = digital_scans[1]\n",
    "df[DIChannelNames[1]] = digital_scans[0]"
   ]
  },
  {
   "cell_type": "code",
   "execution_count": 306,
   "metadata": {},
   "outputs": [],
   "source": [
    "# df['HIFI_norm']= df[\"HIFI\"] / df[\"HIFI\"].max()\n"
   ]
  },
  {
   "cell_type": "code",
   "execution_count": 33,
   "metadata": {},
   "outputs": [
    {
     "data": {
      "image/png": "[encoded data removed]",
      "text/plain": [
       "<Figure size 640x480 with 1 Axes>"
      ]
     },
     "metadata": {
      "needs_background": "light"
     },
     "output_type": "display_data"
    }
   ],
   "source": [
    "plt.plot(digital_scans[0],c=\"blue\");\n",
    "# plt.plot(digital_scans[1],c='red');\n",
    "# plt.plot(df['HIFI_norm'],c='black');"
   ]
  },
  {
   "cell_type": "markdown",
   "metadata": {},
   "source": [
    "## Licks"
   ]
  },
  {
   "cell_type": "code",
   "execution_count": 16,
   "metadata": {},
   "outputs": [],
   "source": [
    "norm_TrialON_FRew = (df['TrialON_FRew'] - df['TrialON_FRew'].min()) / (df['TrialON_FRew'].max() - df['TrialON_FRew'].min())\n",
    "norm_TrialON_FRew = norm_TrialON_FRew.round(0)\n",
    "norm_Rew_StimON = (df['Reward'] - df['Reward'].min()) / (df['Reward'].max() - df['Reward'].min())\n",
    "norm_Rew_StimON = norm_Rew_StimON.round(0)\n",
    "norm_licks = (df['Lick Count'] - df['Lick Count'].min()) / (df['Lick Count'].max() - df['Lick Count'].min())\n",
    "norm_licks = norm_licks.round(0)"
   ]
  },
  {
   "cell_type": "code",
   "execution_count": 35,
   "metadata": {},
   "outputs": [],
   "source": [
    "\n",
    "try:\n",
    "    norm_TrialON_FRew = (df['TrialON_FRew'] - df['TrialON_FRew'].min()) / (df['TrialON_FRew'].max() - df['TrialON_FRew'].min())\n",
    "    norm_TrialON_FRew = norm_TrialON_FRew.round(0)\n",
    "    norm_Rew_StimON = (df['Rew_StimON'] - df['Rew_StimON'].min()) / (df['Rew_StimON'].max() - df['Rew_StimON'].min())\n",
    "    norm_Rew_StimON = norm_Rew_StimON.round(0)\n",
    "    norm_licks = (df['Lick Count'] - df['Lick Count'].min()) / (df['Lick Count'].max() - df['Lick Count'].min())\n",
    "    norm_licks = norm_licks.round(0)\n",
    "except:\n",
    "    # norm_TrialON_FRew = (df['FakeReward'] - df['FakeReward'].min()) / (df['FakeReward'].max() - df['FakeReward'].min())\n",
    "    # try:\n",
    "        norm_TrialON_FRew = df['FakeReward']\n",
    "        norm_licks = (df['Licks'] - df['Licks'].min()) / (df['Licks'].max() - df['Licks'].min())\n",
    "        norm_licks = norm_licks.round(0)\n",
    "    # except:\n",
    "        norm_Rew_StimON = (df['Reward'] - df['Reward'].min()) / (df['Reward'].max() - df['Reward'].min())\n",
    "        norm_Rew_StimON = norm_Rew_StimON.round(0)\n",
    "        \n"
   ]
  },
  {
   "cell_type": "code",
   "execution_count": 36,
   "metadata": {},
   "outputs": [
    {
     "name": "stdout",
     "output_type": "stream",
     "text": [
      "Event sizes: [5250]\n",
      "Length of trialON_idx: 0\n",
      "Length of rews_idx: 20\n"
     ]
    }
   ],
   "source": [
    "event_sizes, trialON_idx, rews_idx  = find_event_sizes(norm_Rew_StimON)\n",
    "\n",
    "print(\"Event sizes:\", np.unique(event_sizes))\n",
    "print(\"Length of trialON_idx:\", len(trialON_idx))\n",
    "print(\"Length of rews_idx:\", len(rews_idx))"
   ]
  },
  {
   "cell_type": "code",
   "execution_count": 37,
   "metadata": {},
   "outputs": [
    {
     "name": "stdout",
     "output_type": "stream",
     "text": [
      "Event sizes: [5250 5251]\n",
      "Length of trialON_idx: 0\n",
      "Length of frews_idx: 85\n"
     ]
    }
   ],
   "source": [
    "event_sizes, trialON_idx, frews_idx  = find_event_sizes(norm_TrialON_FRew)\n",
    "\n",
    "print(\"Event sizes:\", np.unique(event_sizes))\n",
    "print(\"Length of trialON_idx:\", len(trialON_idx))\n",
    "print(\"Length of frews_idx:\", len(frews_idx))"
   ]
  },
  {
   "cell_type": "code",
   "execution_count": 38,
   "metadata": {},
   "outputs": [],
   "source": [
    "# Create arrays for trial onsets and rewards\n",
    "trial_onsets = np.zeros_like(norm_TrialON_FRew)\n",
    "frews = np.zeros_like(norm_TrialON_FRew)\n",
    "rews = np.zeros_like(norm_Rew_StimON)\n",
    "\n",
    "for start, end in trialON_idx:\n",
    "    trial_onsets[start:end] = 1\n",
    "\n",
    "for start, end in frews_idx:\n",
    "    frews[start:end] = 1\n",
    "\n",
    "for start, end in rews_idx:\n",
    "    rews[start:end] = 1"
   ]
  },
  {
   "cell_type": "code",
   "execution_count": 39,
   "metadata": {},
   "outputs": [],
   "source": [
    "pre_window = int(5 * sampling_rate_hz)  # 5 seconds before\n",
    "post_window = int(10 * sampling_rate_hz)  # 10 seconds after\n",
    "\n",
    "frews_trials = extract_trials(norm_licks, frews_idx, pre_window, post_window)\n",
    "rews_trials = extract_trials(norm_licks, rews_idx, pre_window, post_window)\n"
   ]
  },
  {
   "cell_type": "code",
   "execution_count": 40,
   "metadata": {},
   "outputs": [
    {
     "data": {
      "text/plain": [
       "'Habituation_AA_ROS-1792_2024-06-04_scan9FOG9RQH'"
      ]
     },
     "execution_count": 40,
     "metadata": {},
     "output_type": "execute_result"
    }
   ],
   "source": [
    "filename_parts = re.split(r'_|\\.', scan_idx)\n",
    "scan_info = '_'.join(filename_parts[0:5])\n",
    "scan_info"
   ]
  },
  {
   "cell_type": "code",
   "execution_count": 42,
   "metadata": {},
   "outputs": [
    {
     "data": {
      "image/png": "[encoded data removed]",
      "text/plain": [
       "<Figure size 640x480 with 1 Axes>"
      ]
     },
     "metadata": {
      "needs_background": "light"
     },
     "output_type": "display_data"
    }
   ],
   "source": [
    "# Constants for time adjustment\n",
    "pre_time_seconds = 5  # 5 seconds before the onset\n",
    "post_time_seconds = 10  # 10 seconds after the onset\n",
    "\n",
    "# Convert these times to index offsets\n",
    "pre_index = pre_time_seconds * sampling_rate_hz\n",
    "post_index = post_time_seconds * sampling_rate_hz\n",
    "\n",
    "# Calculate total number of points to display\n",
    "total_points = pre_index + post_index\n",
    "\n",
    "# Adjust pre_window and post_window according to the onset index and total points\n",
    "pre_window = 100000 - pre_index  # Adjusted to start 5s before the onset\n",
    "post_window = 100000 + post_index  # Adjusted to end 10s after the onset\n",
    "\n",
    "# Time conversion for x-axis (from indices to seconds, centered at onset)\n",
    "time_axis = np.linspace(-pre_time_seconds, post_time_seconds, total_points)\n",
    "\n",
    "# Adjust event plotting to reflect new time_axis\n",
    "for i, trial in enumerate(frews_trials):\n",
    "    events = np.where(trial)[0]\n",
    "    valid_events = events[(events >= pre_window) & (events < post_window)] - 100000\n",
    "    plt.eventplot(time_axis[valid_events + pre_index], lineoffsets=i, colors='black')\n",
    "\n",
    "offset = len(frews_trials)\n",
    "for i, trial in enumerate(rews_trials):\n",
    "    events = np.where(trial)[0]\n",
    "    valid_events = events[(events >= pre_window) & (events < post_window)] - 100000\n",
    "    plt.eventplot(time_axis[valid_events + pre_index], lineoffsets=i + offset, colors='black')\n",
    "\n",
    "\n",
    "num_frews_trials = len(frews_trials)\n",
    "num_rews_trials = len(rews_trials)\n",
    "total_trials = num_frews_trials + num_rews_trials\n",
    "\n",
    "# Shading for frews_trials\n",
    "for i in range(num_frews_trials):\n",
    "    ymin = i / total_trials  # Adjust ymin based on total trials count\n",
    "    ymax = (i + 1) / total_trials  # Adjust ymax similarly\n",
    "    plt.axvspan(0, 10, facecolor='blue', alpha=0.1, ymin=ymin, ymax=ymax)\n",
    "\n",
    "# Shading for rews_trials\n",
    "for i in range(num_rews_trials):\n",
    "    ymin = (i + num_frews_trials) / total_trials  # Start from the end of frews_trials\n",
    "    ymax = (i + 1 + num_frews_trials) / total_trials\n",
    "    plt.axvspan(0, 10, facecolor='red', alpha=0.1, ymin=ymin, ymax=ymax)\n",
    "\n",
    "mock_reward_patch = patches.Patch(color='blue', alpha=0.1, label='Mock Reward')\n",
    "reward_patch = patches.Patch(color='red', alpha=0.1, label='Reward')\n",
    "\n",
    "# Update formatting\n",
    "plt.xlabel('Time (s)')\n",
    "plt.ylabel('Trials')\n",
    "# plt.title('Raster Plot of Lick Events')\n",
    "plt.axvline(0, color='grey', linestyle='--')  # Indicate the stimulus onset\n",
    "plt.xlim([-5, 10])  # Set x-axis limits to -5s to 10s\n",
    "plt.ylim(0,total_trials)\n",
    "\n",
    "# Adjust tick label size\n",
    "plt.xticks(fontsize=10)  # Adjust tick font size as needed\n",
    "plt.yticks(fontsize=10)  # Adjust tick font size as needed\n",
    "\n",
    "plt.legend(handles=[mock_reward_patch, reward_patch], loc='upper center', bbox_to_anchor=(0.5, 1.1), ncol=2)\n",
    "\n",
    "# Construct the path to the folder where the plot will be saved\n",
    "folder_path = os.path.join('/datajoint-data/data/aeltona', 'Licks')\n",
    "file_path = os.path.join(folder_path, f'{scan_info}_licks')\n",
    "\n",
    "# Check if the folder exists, and create it if it does not\n",
    "if not os.path.exists(folder_path):\n",
    "    os.makedirs(folder_path)\n",
    "    \n",
    "# Save and show plot (make sure 'folder_path' and 'file_path' are correctly defined)\n",
    "if not os.path.exists(folder_path):\n",
    "    os.makedirs(folder_path)\n",
    "plt.savefig(f'{file_path}.svg')\n",
    "plt.savefig(f'{file_path}.png')\n",
    "plt.show()"
   ]
  },
  {
   "cell_type": "code",
   "execution_count": null,
   "metadata": {},
   "outputs": [
    {
     "data": {
      "text/plain": [
       "Index(['camera_trigger', 'blue_470nm', 'violet_405nm', 'HIFI', 'Rew_StimON',\n",
       "       'TrialON_FRew', 'Lick Count', 'Rotary Encoder', 'time_seconds',\n",
       "       'trial_onsets', 'norm_licks', 'rews', 'frews'],\n",
       "      dtype='object')"
      ]
     },
     "execution_count": 37,
     "metadata": {},
     "output_type": "execute_result"
    }
   ],
   "source": [
    "df['trial_onsets'] = trial_onsets\n",
    "df['norm_licks'] = norm_licks\n",
    "df['rews'] = rews\n",
    "df['frews'] = frews\n",
    "df.columns"
   ]
  },
  {
   "cell_type": "markdown",
   "metadata": {},
   "source": [
    "# Reading Bpod Data\n"
   ]
  },
  {
   "cell_type": "code",
   "execution_count": 165,
   "metadata": {},
   "outputs": [
    {
     "name": "stdout",
     "output_type": "stream",
     "text": [
      "Folders containing 'AA' keyword:\n",
      "1. Preconditioning_AA_ROS-1792_2024-06-06_scan9FOHHCKE_sess9FOHHCKE\n",
      "2. Preconditioning_AA_ROS-1783_2024-06-06_scan9FOHGI54_sess9FOHGI54\n",
      "3. Preconditioning_AA_ROS-1783_2024-06-04_scan9FOGAODU_sess9FOGAODU\n",
      "4. Oddball_AA_ROS-1706_2024-03-12_scan9FN2BCOS_sess9FN2ANVG\n",
      "5. Preconditioning_AA_ROS-1783_2024-06-07_scan9FOI2GOW_sess9FOI2GOW\n",
      "6. PassConditioning_AA_ROS-1792_2024-06-10_scan9FOJUE5S_sess9FOJUE5S\n",
      "7. AA_ROS-1688_2024_01_27_scan000WQU9_sess000EAEIO\n",
      "8. Habituation_AA_ROS-1783_2024-05-28_scan9FOC20QN_sess9FOC1CUS\n",
      "9. Preconditioning_AA_ROS-1783_2024-06-05_scan9FOGVB9K_sess9FOGVB9K\n",
      "10. AA_ROS-1706_2024-03-12_scan9FN2ANVG_sess9FN2ANVG\n",
      "11. PassConditioning_AA_ROS-1783_2024-06-09_scan9FOJAPFP_sess9FOJAPFP\n",
      "12. Habituation_AA_ROS-1792_2024-06-04_scan9FOG9RQH_sess9FOG9RQH\n",
      "13. Habituation_AA_ROS-1783_2024-05-31_scan9FODV06V_sess9FODV06V\n",
      "14. Habituation_AA_ROS-1792_2024-06-03_scan9FOFOHYM_sess9FOFOHYM\n",
      "15. Preconditioning_AA_ROS-1792_2024-06-07_scan9FOI1FRY_sess9FOI1FRY\n",
      "16. AtivConditioning_AA_ROS-1783_2024-06-10_scan9FOJU4V9_sess9FOJU4V9\n",
      "17. Habituation_AA_ROS-1792_2024-05-28_scan9FOC2ZC0_sess9FOC2ZC0\n",
      "18. Preconditioning_AA_ROS-1783_2024-06-03_scan9FOFPDZ5_sess9FOFPDZ5\n",
      "19. PassConditioning_AA_ROS-1792_2024-06-10_scan9FOJVAWJ_sess9FOJUE5S\n",
      "20. Habituation_AA_ROS-1783_2024-05-27_scan9FOBHGME_sess9FOBHGME\n",
      "21. Habituation_AA_ROS-1783_2024-05-29_scan9FOCOYKP_sess9FOCOYKP\n",
      "22. Habituation_AA_ROS-1792_2024-05-29_scan9FOCO8OP_sess9FOCO8OP\n",
      "23. AA_ROS-1688_2024_01_27_scan000EAEIO_sess000EAEIO\n",
      "24. Preconditioning_AA_ROS-1792_2024-06-05_scan9FOGUAUP_sess9FOGUAUP\n",
      "25. Habituation_AA_ROS-1792_2024-05-31_scan9FODTU50_sess9FODTU50\n",
      "26. PassConditioning_AA_ROS-1783_2024-06-08_scan9FOIPM7X_sess9FOIPM7X\n",
      "27. AtivConditioning_AA_ROS-1783_2024-06-09_scan9FOJAXWZ_sess9FOJAXWZ\n",
      "28. Preconditioning_AA_ROS-1792_2024-06-08_scan9FOIQ9VQ_sess9FOIQ9VQ\n",
      "29. Habituation_AA_ROS-1792_2024-05-27_scan9FOBGEJH_sess9FOBGEJH\n",
      "Selected PassConditioning_AA_ROS-1792_2024-06-10_scan9FOJVAWJ_sess9FOJUE5S\n"
     ]
    }
   ],
   "source": [
    "data_folder = r'/datajoint-data/data/aeltona/'\n",
    "localdisk, scan_idx = list_scans(data_folder,\"AA\")"
   ]
  },
  {
   "cell_type": "code",
   "execution_count": 166,
   "metadata": {},
   "outputs": [
    {
     "name": "stdout",
     "output_type": "stream",
     "text": [
      "Bpod file found\n",
      "Loading...\n",
      "Selected scan9FOJVAWJ_PassConditioning_ROS-1792_SensoryPreconditioning_20240610_173448.mat\n"
     ]
    }
   ],
   "source": [
    "bpod_data = list_bpod(localdisk)"
   ]
  },
  {
   "cell_type": "code",
   "execution_count": 167,
   "metadata": {},
   "outputs": [],
   "source": [
    "states_list = ['Hit', 'Anticipatory_Hit','Miss','Anticipatory_Miss']\n",
    "trials = bpod_data['SessionData'][0, 0]['RawEvents']['Trial'][0,0]\n",
    "\n",
    "# Lists to hold the DataFrame data\n",
    "num_trials = []\n",
    "trial_types = []\n",
    "outcomes = []\n",
    "\n",
    "# Loop through each trial\n",
    "for trial in range(trials.shape[1]):\n",
    "    trial_data = trials[0, trial]\n",
    "    trial_type = bpod_data['SessionData'][0][0]['TrialTypes'][0, trial]\n",
    "    states = trial_data['States'][0,0]  # Assuming this mimics your data structure for states\n",
    "    outcome = None  # Initialize outcome as None to handle cases where no state is valid\n",
    "\n",
    "    for state in states_list:\n",
    "        # Example of accessing state data; replace with actual way to access your 'states' data\n",
    "        # Assuming there is a dictionary-like access needed here; you need to adjust this line according to your data structure\n",
    "        # state_data = np.array([np.nan, np.nan])  # Placeholder for state data; replace with actual data access\n",
    "\n",
    "        # Check if there is any valid state data\n",
    "        if not np.isnan(states[state][0,0]).any():  # Corrected to check all elements\n",
    "            if state == 'Hit':\n",
    "                outcome = 2\n",
    "            elif state == 'Anticipatory_Hit':\n",
    "                outcome = 1\n",
    "            elif state == 'Miss':\n",
    "                outcome = -1\n",
    "            elif state == 'Anticipatory_Miss':\n",
    "                outcome = 0\n",
    "            break  # Break the loop if a valid state has been found\n",
    "\n",
    "    if outcome is None:\n",
    "        print(\"No valid state found for trial\", trial + 1)\n",
    "\n",
    "    # Collect data for DataFrame\n",
    "    num_trials.append(trial + 1)\n",
    "    trial_types.append(trial_type)\n",
    "    outcomes.append(outcome)\n",
    "\n"
   ]
  },
  {
   "cell_type": "code",
   "execution_count": 168,
   "metadata": {},
   "outputs": [
    {
     "data": {
      "text/html": [
       "<div>\n",
       "<style scoped>\n",
       "    .dataframe tbody tr th:only-of-type {\n",
       "        vertical-align: middle;\n",
       "    }\n",
       "\n",
       "    .dataframe tbody tr th {\n",
       "        vertical-align: top;\n",
       "    }\n",
       "\n",
       "    .dataframe thead th {\n",
       "        text-align: right;\n",
       "    }\n",
       "</style>\n",
       "<table border=\"1\" class=\"dataframe\">\n",
       "  <thead>\n",
       "    <tr style=\"text-align: right;\">\n",
       "      <th></th>\n",
       "      <th>num_trial</th>\n",
       "      <th>trial_type</th>\n",
       "      <th>outcome</th>\n",
       "    </tr>\n",
       "  </thead>\n",
       "  <tbody>\n",
       "    <tr>\n",
       "      <th>0</th>\n",
       "      <td>1</td>\n",
       "      <td>1</td>\n",
       "      <td>2</td>\n",
       "    </tr>\n",
       "    <tr>\n",
       "      <th>1</th>\n",
       "      <td>2</td>\n",
       "      <td>1</td>\n",
       "      <td>2</td>\n",
       "    </tr>\n",
       "    <tr>\n",
       "      <th>2</th>\n",
       "      <td>3</td>\n",
       "      <td>2</td>\n",
       "      <td>-1</td>\n",
       "    </tr>\n",
       "    <tr>\n",
       "      <th>3</th>\n",
       "      <td>4</td>\n",
       "      <td>2</td>\n",
       "      <td>-1</td>\n",
       "    </tr>\n",
       "    <tr>\n",
       "      <th>4</th>\n",
       "      <td>5</td>\n",
       "      <td>1</td>\n",
       "      <td>2</td>\n",
       "    </tr>\n",
       "    <tr>\n",
       "      <th>...</th>\n",
       "      <td>...</td>\n",
       "      <td>...</td>\n",
       "      <td>...</td>\n",
       "    </tr>\n",
       "    <tr>\n",
       "      <th>101</th>\n",
       "      <td>102</td>\n",
       "      <td>1</td>\n",
       "      <td>-1</td>\n",
       "    </tr>\n",
       "    <tr>\n",
       "      <th>102</th>\n",
       "      <td>103</td>\n",
       "      <td>1</td>\n",
       "      <td>2</td>\n",
       "    </tr>\n",
       "    <tr>\n",
       "      <th>103</th>\n",
       "      <td>104</td>\n",
       "      <td>2</td>\n",
       "      <td>2</td>\n",
       "    </tr>\n",
       "    <tr>\n",
       "      <th>104</th>\n",
       "      <td>105</td>\n",
       "      <td>2</td>\n",
       "      <td>-1</td>\n",
       "    </tr>\n",
       "    <tr>\n",
       "      <th>105</th>\n",
       "      <td>106</td>\n",
       "      <td>2</td>\n",
       "      <td>-1</td>\n",
       "    </tr>\n",
       "  </tbody>\n",
       "</table>\n",
       "<p>106 rows × 3 columns</p>\n",
       "</div>"
      ],
      "text/plain": [
       "     num_trial  trial_type  outcome\n",
       "0            1           1        2\n",
       "1            2           1        2\n",
       "2            3           2       -1\n",
       "3            4           2       -1\n",
       "4            5           1        2\n",
       "..         ...         ...      ...\n",
       "101        102           1       -1\n",
       "102        103           1        2\n",
       "103        104           2        2\n",
       "104        105           2       -1\n",
       "105        106           2       -1\n",
       "\n",
       "[106 rows x 3 columns]"
      ]
     },
     "metadata": {},
     "output_type": "display_data"
    }
   ],
   "source": [
    "# Create the DataFrame\n",
    "outcome_df = pd.DataFrame({\n",
    "    'num_trial': num_trials,\n",
    "    'trial_type': trial_types,\n",
    "    'outcome': outcomes\n",
    "})\n",
    "\n",
    "display(outcome_df)"
   ]
  },
  {
   "cell_type": "code",
   "execution_count": 169,
   "metadata": {},
   "outputs": [
    {
     "data": {
      "text/plain": [
       "'PassConditioning_AA_ROS-1792_2024-06-10_scan9FOJVAWJ'"
      ]
     },
     "execution_count": 169,
     "metadata": {},
     "output_type": "execute_result"
    }
   ],
   "source": [
    "filename_parts = re.split(r'_|\\.', scan_idx)\n",
    "scan_info = '_'.join(filename_parts[0:5])\n",
    "scan_info"
   ]
  },
  {
   "cell_type": "code",
   "execution_count": 170,
   "metadata": {},
   "outputs": [
    {
     "data": {
      "image/png": "[encoded data removed]",
      "text/plain": [
       "<Figure size 1500x400 with 1 Axes>"
      ]
     },
     "metadata": {
      "needs_background": "light"
     },
     "output_type": "display_data"
    }
   ],
   "source": [
    "# Plotting setup\n",
    "fig, ax = plt.subplots(figsize=(15, 4))  # Adjust the figsize to increase width and decrease height\n",
    "\n",
    "# Define colors and markers based on outcome\n",
    "color_map = { -1: 'red', 0: 'red', 1: 'green', 2: 'green' }\n",
    "fill_style_map = { -1: 'none', 0: 'full', 1: 'full', 2: 'none' }\n",
    "\n",
    "# Plot each point based on its outcome\n",
    "for idx, row in outcome_df.iterrows():\n",
    "    ax.plot(row['num_trial'], row['trial_type'], 'o',\n",
    "            markerfacecolor=color_map[row['outcome']] if fill_style_map[row['outcome']] == 'full' else 'none',\n",
    "            markeredgecolor=color_map[row['outcome']],\n",
    "            markeredgewidth=2,\n",
    "            markersize=10,\n",
    "            fillstyle=fill_style_map[row['outcome']])\n",
    "\n",
    "# Adjust y-axis\n",
    "ax.set_yticks([1, 2])\n",
    "ax.set_yticklabels(['Unrewarded', 'Rewarded'], fontsize=14)\n",
    "ax.set_ylim(2.25, 0.75)  # Invert y-axis to place Type 1 on top\n",
    "\n",
    "# Setting the axis labels and title\n",
    "ax.set_xlabel('# Trial',fontsize=16)\n",
    "# ax.set_ylabel('Trial Type')\n",
    "ax.set_title(scan_info)  # Replace with your actual `scan_info` variable\n",
    "\n",
    "# Adjust x-axis limits and spacing\n",
    "ax.set_xlim(0.5, outcome_df['num_trial'].max() + 0.5)  # Provide a little padding\n",
    "ax.tick_params(axis='x', labelsize=14)\n",
    "\n",
    "# Create a custom legend using circle markers\n",
    "legend_elements = [\n",
    "    Line2D([0], [0], marker='o', color='w', label='Licked during rewarded stim.',\n",
    "           markerfacecolor='green', markersize=10),\n",
    "    Line2D([0], [0], marker='o', color='w', label='Licked after rewarded or correctly ignored unrewarded',\n",
    "           markerfacecolor='none', markeredgecolor='green', markersize=10),\n",
    "    Line2D([0], [0], marker='o', color='w', label='Licked during unrewarded stim.',\n",
    "           markerfacecolor='red', markersize=10),\n",
    "    Line2D([0], [0], marker='o', color='w', label='Licked after unrewarded stim. or missed reward',\n",
    "           markerfacecolor='none', markeredgecolor='red', markersize=10)\n",
    "]\n",
    "\n",
    "# Adjust legend position to avoid overlap and make it visually pleasant\n",
    "ax.legend(handles=legend_elements, loc='upper right', bbox_to_anchor=(0.4, 0.70), ncol=1, frameon=False)\n",
    "\n",
    "# Show the plot\n",
    "plt.tight_layout()\n",
    "\n",
    "# Construct the path to the folder where the plot will be saved\n",
    "folder_path = os.path.join('/datajoint-data/data/aeltona', 'Outcomes')\n",
    "file_path = os.path.join(folder_path, f'{scan_info}_outcomes')\n",
    "\n",
    "# Check if the folder exists, and create it if it does not\n",
    "if not os.path.exists(folder_path):\n",
    "    os.makedirs(folder_path)\n",
    "    \n",
    "# Save and show plot (make sure 'folder_path' and 'file_path' are correctly defined)\n",
    "if not os.path.exists(folder_path):\n",
    "    os.makedirs(folder_path)\n",
    "plt.savefig(f'{file_path}.svg')\n",
    "plt.savefig(f'{file_path}.png')\n",
    "\n",
    "plt.show()"
   ]
  },
  {
   "cell_type": "code",
   "execution_count": null,
   "metadata": {},
   "outputs": [],
   "source": []
  },
  {
   "cell_type": "code",
   "execution_count": null,
   "metadata": {},
   "outputs": [],
   "source": []
  }
 ],
 "metadata": {
  "kernelspec": {
   "display_name": "wfield",
   "language": "python",
   "name": "python3"
  },
  "language_info": {
   "codemirror_mode": {
    "name": "ipython",
    "version": 3
   },
   "file_extension": ".py",
   "mimetype": "text/x-python",
   "name": "python",
   "nbconvert_exporter": "python",
   "pygments_lexer": "ipython3",
   "version": "3.11.9"
  }
 },
 "nbformat": 4,
 "nbformat_minor": 2
}
