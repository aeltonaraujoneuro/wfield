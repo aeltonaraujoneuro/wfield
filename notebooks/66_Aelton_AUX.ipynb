{
 "cells": [
  {
   "cell_type": "markdown",
   "metadata": {},
   "source": [
    "# Importing Libraries\n"
   ]
  },
  {
   "cell_type": "code",
   "execution_count": 1,
   "metadata": {},
   "outputs": [],
   "source": [
    "from wfield import *\n",
    "import matplotlib.pyplot as plt\n",
    "import re\n",
    "import os\n",
    "import pandas as pd\n",
    "import h5py\n",
    "from scipy.ndimage import label\n",
    "\n"
   ]
  },
  {
   "cell_type": "markdown",
   "metadata": {},
   "source": [
    "# Defining functions"
   ]
  },
  {
   "cell_type": "code",
   "execution_count": 2,
   "metadata": {},
   "outputs": [],
   "source": [
    "def list_scans(data_folder, keyword):\n",
    "    # Find folders containing the keyword\n",
    "    scan_folders = [folder for folder in os.listdir(data_folder) if os.path.isdir(os.path.join(data_folder, folder)) and keyword in folder]\n",
    "\n",
    "    # Print list of found folders\n",
    "    print(f\"Folders containing '{keyword}' keyword:\")\n",
    "    for i, folder in enumerate(scan_folders):\n",
    "        print(f\"{i + 1}. {folder}\")\n",
    "\n",
    "    # Prompt user to choose a folder\n",
    "    while True:\n",
    "        choice = input(\"Enter the number of the scan you want to choose: \")\n",
    "        if choice.isdigit() and 1 <= int(choice) <= len(scan_folders):\n",
    "            chosen_folder = scan_folders[int(choice) - 1]\n",
    "            break\n",
    "        else:\n",
    "            print(\"Invalid input. Please enter a valid number.\")\n",
    "    print(\"Selected\",chosen_folder)\n",
    "    # Return the path to the chosen folder\n",
    "    return os.path.join(data_folder, chosen_folder), chosen_folder\n"
   ]
  },
  {
   "cell_type": "code",
   "execution_count": 3,
   "metadata": {},
   "outputs": [],
   "source": [
    "def list_bpod(localdisk):\n",
    "    import scipy.io\n",
    "    mat_files = glob(pjoin(localdisk,'*.mat'))\n",
    "    if len(mat_files) > 1:\n",
    "        print(\"Multiple Bpod files found:\")\n",
    "        for i, mat_file in enumerate(mat_files):\n",
    "            print(f\"{i + 1}. {os.path.basename(mat_file)}\")\n",
    "        \n",
    "        while True:\n",
    "            choice = input(\"Enter the number of the .dat file you want to choose: \")\n",
    "            if choice.isdigit() and 1 <= int(choice) <= len(mat_files):\n",
    "                mat_path = mat_files[int(choice) - 1]\n",
    "                break\n",
    "            else:\n",
    "                print(\"Invalid input. Please enter a valid number.\")\n",
    "    elif len(mat_files) == 1:\n",
    "        mat_path = mat_files[0]\n",
    "        print(\"Bpod file found\")\n",
    "        print(\"Loading...\")\n",
    "    else:\n",
    "        print(\"Bpod file not found\")\n",
    "        print(\"-----------------------\")\n",
    "    \n",
    "    try:\n",
    "        bpod_data = scipy.io.loadmat(mat_path)\n",
    "        print(\"Selected\", os.path.basename(mat_path))\n",
    "    except:\n",
    "        print(\"Failed\")\n",
    "    return bpod_data\n"
   ]
  },
  {
   "cell_type": "markdown",
   "metadata": {},
   "source": [
    "# Reading Aux file"
   ]
  },
  {
   "cell_type": "code",
   "execution_count": 144,
   "metadata": {},
   "outputs": [
    {
     "name": "stdout",
     "output_type": "stream",
     "text": [
      "Folders containing 'AA' keyword:\n",
      "1. Habituation_AA_WEZ-8950_2024-04-16_scan9FNN1Y64_sess9FNN0LFP\n",
      "2. Habituation_AA_WEZ-8948_2024-04-17_scan9FNNP1N7_sess9FNNO3Z1\n",
      "3. Oddball_AA_ROS-1706_2024-03-12_scan9FN2BCOS_sess9FN2ANVG\n",
      "4. AA_ROS-1688_2024_01_27_scan000WQU9_sess000EAEIO\n",
      "5. Habituation_AA_WEZ-8950_2024-04-18_scan9FNO8CLT_sess9FNO8CLT\n",
      "6. Habituation_AA_WEZ-8950_2024-04-17_scan9FNNO3Z1_sess9FNNO3Z1\n",
      "7. AA_ROS-1706_2024-03-12_scan9FN2ANVG_sess9FN2ANVG\n",
      "8. Habituation_AA_WEZ-8950_2024-04-16_scan9FNN1YXK_sess9FNN1YXK\n",
      "9. Habituation_AA_ROS-1783_2024-05-31_scan9FODV06V_sess9FODV06V\n",
      "10. Habituation_AA_WEZ-8948_2024-04-18_scan9FNO99ZE_sess9FNO8CLT\n",
      "11. Habituation_AA_ROS-1783_2024-05-27_scan9FOBHGME_sess9FOBHGME\n",
      "12. Habituation_AA_ROS-1783_2024-05-29_scan9FOCOYKP_sess9FOCOYKP\n",
      "13. Habituation_AA_ROS-1792_2024-05-29_scan9FOCO8OP_sess9FOCO8OP\n",
      "14. AA_ROS-1688_2024_01_27_scan000EAEIO_sess000EAEIO\n",
      "15. Habituation_AA_ROS-1792_2024-05-31_scan9FODTU50_sess9FODTU50\n",
      "16. Habituation_AA_WEZ-8950_2024-04-16_scan9FNN2FX7_sess9FNN1YXK\n",
      "17. Habituation_AA_WEZ-8948_2024-04-16_scan9FNN1M1R_sess9FNN0LFP\n",
      "18. Habituation_AA_ROS-1792_2024-05-27_scan9FOBGEJH_sess9FOBGEJH\n",
      "Selected Habituation_AA_ROS-1792_2024-05-31_scan9FODTU50_sess9FODTU50\n"
     ]
    }
   ],
   "source": [
    "data_folder = r'/datajoint-data/data/aeltona/'\n",
    "localdisk, scan_idx = list_scans(data_folder,\"AA\")"
   ]
  },
  {
   "cell_type": "code",
   "execution_count": 145,
   "metadata": {},
   "outputs": [
    {
     "data": {
      "text/plain": [
       "'/datajoint-data/data/aeltona/Habituation_AA_ROS-1792_2024-05-31_scan9FODTU50_sess9FODTU50/scan9FODTU50_Habituation_Habituation_AA_ROS-1792_0001.h5'"
      ]
     },
     "execution_count": 145,
     "metadata": {},
     "output_type": "execute_result"
    }
   ],
   "source": [
    "h5_path = glob(pjoin(localdisk,'*.h5'))[0]\n",
    "h5_path"
   ]
  },
  {
   "cell_type": "code",
   "execution_count": 146,
   "metadata": {},
   "outputs": [],
   "source": [
    "\n",
    "# Open the HDF5 file\n",
    "with h5py.File(h5_path, 'r') as f:\n",
    "    sweep_data_key = list(f.keys())[1]\n",
    "    sweep_data = f[sweep_data_key]\n",
    "    header = f['header'] \n",
    "    AIChannelNames = header['AIChannelNames'][:]\n",
    "    YLimitsPerAIChannel = header['YLimitsPerAIChannel'][:]\n",
    "    AIChannelNames = [name.decode('utf-8') for name in AIChannelNames]\n",
    "    SampleRate = header['AcquisitionSampleRate'][:]\n",
    "    analogData = sweep_data['analogScans'][:]"
   ]
  },
  {
   "cell_type": "code",
   "execution_count": 147,
   "metadata": {},
   "outputs": [
    {
     "data": {
      "text/plain": [
       "Index(['camera_trigger', 'blue_470nm', 'violet_405nm', 'HIFI', 'Rew_StimON',\n",
       "       'TrialON_FRew', 'Lick Count', 'Rotary Encoder', 'time_seconds'],\n",
       "      dtype='object')"
      ]
     },
     "execution_count": 147,
     "metadata": {},
     "output_type": "execute_result"
    }
   ],
   "source": [
    "# Convert analogData to DataFrame\n",
    "df = pd.DataFrame(analogData.T, columns=AIChannelNames)\n",
    "sampling_rate_hz = SampleRate[0,0]\n",
    "df['time_seconds'] = df.index / sampling_rate_hz\n",
    "# Print DataFrame\n",
    "# print(df)\n",
    "df.columns"
   ]
  },
  {
   "cell_type": "code",
   "execution_count": 148,
   "metadata": {},
   "outputs": [],
   "source": [
    "norm_TrialON_FRew = (df['TrialON_FRew'] - df['TrialON_FRew'].min()) / (df['TrialON_FRew'].max() - df['TrialON_FRew'].min())\n",
    "norm_TrialON_FRew = norm_TrialON_FRew.round(0)\n",
    "\n",
    "norm_Rew_StimON = (df['Rew_StimON'] - df['Rew_StimON'].min()) / (df['Rew_StimON'].max() - df['Rew_StimON'].min())\n",
    "norm_Rew_StimON = norm_Rew_StimON.round(0)\n",
    "\n",
    "norm_licks = (df['Lick Count'] - df['Lick Count'].min()) / (df['Lick Count'].max() - df['Lick Count'].min())\n",
    "norm_licks = norm_licks.round(0)"
   ]
  },
  {
   "cell_type": "code",
   "execution_count": 149,
   "metadata": {},
   "outputs": [],
   "source": [
    "def find_event_sizes(signal):\n",
    "    event_sizes = []\n",
    "    event_positions = []\n",
    "    trialON_idx = []\n",
    "    rewards_idx = []\n",
    "    event_start = None\n",
    "\n",
    "    for i, val in enumerate(signal):\n",
    "        if val == 1 and event_start is None:\n",
    "            event_start = i\n",
    "        elif val == 0 and event_start is not None:\n",
    "            event_duration = i - event_start\n",
    "            event_sizes.append(event_duration)\n",
    "            if event_duration > 10:\n",
    "                rewards_idx.append((event_start, i))\n",
    "            else:\n",
    "                trialON_idx.append((event_start, i))\n",
    "            # event_positions.append((event_start, i))\n",
    "            event_start = None\n",
    "\n",
    "    if event_start is not None:  # Handle case where the last event goes till the end\n",
    "        event_duration = len(signal) - event_start\n",
    "        event_sizes.append(event_duration)\n",
    "        event_positions.append((event_start, len(signal)))\n",
    "    \n",
    "    return event_sizes, trialON_idx,rewards_idx"
   ]
  },
  {
   "cell_type": "code",
   "execution_count": 150,
   "metadata": {},
   "outputs": [
    {
     "name": "stdout",
     "output_type": "stream",
     "text": [
      "Event sizes: [5250]\n",
      "Length of trialON_idx: 0\n",
      "Length of rews_idx: 25\n"
     ]
    }
   ],
   "source": [
    "event_sizes, trialON_idx, rews_idx  = find_event_sizes(norm_Rew_StimON)\n",
    "\n",
    "print(\"Event sizes:\", np.unique(event_sizes))\n",
    "print(\"Length of trialON_idx:\", len(trialON_idx))\n",
    "print(\"Length of rews_idx:\", len(rews_idx))"
   ]
  },
  {
   "cell_type": "code",
   "execution_count": 151,
   "metadata": {},
   "outputs": [
    {
     "name": "stdout",
     "output_type": "stream",
     "text": [
      "Event sizes: [   1    2 5250 5251]\n",
      "Length of trialON_idx: 121\n",
      "Length of frews_idx: 96\n"
     ]
    }
   ],
   "source": [
    "event_sizes, trialON_idx, frews_idx  = find_event_sizes(norm_TrialON_FRew)\n",
    "\n",
    "print(\"Event sizes:\", np.unique(event_sizes))\n",
    "print(\"Length of trialON_idx:\", len(trialON_idx))\n",
    "print(\"Length of frews_idx:\", len(frews_idx))"
   ]
  },
  {
   "cell_type": "code",
   "execution_count": 152,
   "metadata": {},
   "outputs": [],
   "source": [
    "# Create arrays for trial onsets and rewards\n",
    "trial_onsets = np.zeros_like(norm_TrialON_FRew)\n",
    "frews = np.zeros_like(norm_TrialON_FRew)\n",
    "rews = np.zeros_like(norm_Rew_StimON)\n",
    "\n",
    "for start, end in trialON_idx:\n",
    "    trial_onsets[start:end] = 1\n",
    "\n",
    "for start, end in frews_idx:\n",
    "    frews[start:end] = 1\n",
    "\n",
    "for start, end in rews_idx:\n",
    "    rews[start:end] = 1"
   ]
  },
  {
   "cell_type": "code",
   "execution_count": 153,
   "metadata": {},
   "outputs": [
    {
     "data": {
      "image/png": "[encoded data removed]",
      "text/plain": [
       "<Figure size 640x480 with 1 Axes>"
      ]
     },
     "metadata": {
      "needs_background": "light"
     },
     "output_type": "display_data"
    }
   ],
   "source": [
    "start = int(1900*sampling_rate_hz)\n",
    "end = int(2555*sampling_rate_hz)\n",
    "\n",
    "plt.plot(df['time_seconds'][start:end],norm_licks[start:end],c = 'black'); #[start:end]\n",
    "plt.plot(df['time_seconds'][start:end],rews[start:end], c='red');\n",
    "plt.plot(df['time_seconds'][start:end],frews[start:end], c='blue');\n",
    "plt.plot(df['time_seconds'][start:end],trial_onsets[start:end], c='green');\n",
    "# plt.legend(loc='upper right')\n"
   ]
  },
  {
   "cell_type": "code",
   "execution_count": 154,
   "metadata": {},
   "outputs": [],
   "source": [
    "def extract_trials(data, idx_list, pre_window, post_window):\n",
    "    trials = []\n",
    "    for start, end in idx_list:\n",
    "        trial_start = max(0, start - pre_window)\n",
    "        trial_end = min(len(data), end + post_window)\n",
    "        trial_data = data[trial_start:trial_end]\n",
    "        trials.append(trial_data)\n",
    "    return trials"
   ]
  },
  {
   "cell_type": "code",
   "execution_count": 155,
   "metadata": {},
   "outputs": [],
   "source": [
    "pre_window = int(5 * sampling_rate_hz)  # 5 seconds before\n",
    "post_window = int(10 * sampling_rate_hz)  # 10 seconds after\n",
    "\n",
    "frews_trials = extract_trials(norm_licks, frews_idx, pre_window, post_window)\n",
    "rews_trials = extract_trials(norm_licks, rews_idx, pre_window, post_window)\n"
   ]
  },
  {
   "cell_type": "code",
   "execution_count": 156,
   "metadata": {},
   "outputs": [
    {
     "data": {
      "image/png": "[encoded data removed]",
      "text/plain": [
       "<Figure size 1000x800 with 1 Axes>"
      ]
     },
     "metadata": {
      "needs_background": "light"
     },
     "output_type": "display_data"
    }
   ],
   "source": [
    "\n",
    "\n",
    "# Plotting\n",
    "plt.figure(figsize=(10, 8))\n",
    "\n",
    "# Plot frews trials\n",
    "for i, trial in enumerate(frews_trials):\n",
    "    plt.eventplot(np.where(trial)[0], lineoffsets=i, colors='black')\n",
    "\n",
    "# Plot rews trials\n",
    "offset = len(frews_trials)\n",
    "for i, trial in enumerate(rews_trials):\n",
    "    plt.eventplot(np.where(trial)[0], lineoffsets=i + offset, colors='black')\n",
    "\n",
    "# Add shading for different time windows\n",
    "# Plot boundaries\n",
    "for i in range(len(frews_trials)):\n",
    "    i-= (len(rews_trials)-1)\n",
    "    plt.axvspan(pre_window, pre_window + post_window, facecolor='blue', alpha=0.1, ymin=i/len(frews_trials), ymax=(i+1)/len(frews_trials))\n",
    "\n",
    "for i in range(len(rews_trials)):\n",
    "    i-=4\n",
    "    plt.axvspan(pre_window, pre_window + post_window, facecolor='red', alpha=0.1, ymin=(i+offset)/len(frews_trials + rews_trials), ymax=((i+1)+offset)/len(frews_trials + rews_trials))\n",
    "\n",
    "# Formatting\n",
    "plt.xlabel('Time (s)')\n",
    "plt.ylabel('Trials')\n",
    "plt.title('Raster Plot of Lick Events')\n",
    "# plt.xlim([-pre_window, post_window])\n",
    "plt.axvline(pre_window, color='grey', linestyle='--')  # Indicate the stimulus onset\n",
    "plt.axvline(pre_window + (post_window - 10 * sampling_rate_hz), color='grey', linestyle='--')  # Indicate 10s after offset\n",
    "\n",
    "\n",
    "# plt.xticks(ticks=np.arange(-5, 11, 1), labels=np.arange(-5, 11, 1))\n",
    "\n",
    "# Show plot\n",
    "plt.show()"
   ]
  },
  {
   "cell_type": "code",
   "execution_count": 37,
   "metadata": {},
   "outputs": [
    {
     "data": {
      "text/plain": [
       "Index(['camera_trigger', 'blue_470nm', 'violet_405nm', 'HIFI', 'Rew_StimON',\n",
       "       'TrialON_FRew', 'Lick Count', 'Rotary Encoder', 'time_seconds',\n",
       "       'trial_onsets', 'norm_licks', 'rews', 'frews'],\n",
       "      dtype='object')"
      ]
     },
     "execution_count": 37,
     "metadata": {},
     "output_type": "execute_result"
    }
   ],
   "source": [
    "df['trial_onsets'] = trial_onsets\n",
    "df['norm_licks'] = norm_licks\n",
    "df['rews'] = rews\n",
    "df['frews'] = frews\n",
    "df.columns"
   ]
  },
  {
   "cell_type": "markdown",
   "metadata": {},
   "source": [
    "# Reading Bpod Data\n"
   ]
  },
  {
   "cell_type": "code",
   "execution_count": null,
   "metadata": {},
   "outputs": [
    {
     "name": "stdout",
     "output_type": "stream",
     "text": [
      "Bpod file found\n",
      "Loading...\n",
      "Selected scan9FN2ANVG_Oddball_AA_ROS-1706_2024_03_12_bpod.mat\n"
     ]
    }
   ],
   "source": [
    "bpod_data = list_bpod(localdisk)"
   ]
  }
 ],
 "metadata": {
  "kernelspec": {
   "display_name": "wfield",
   "language": "python",
   "name": "python3"
  },
  "language_info": {
   "codemirror_mode": {
    "name": "ipython",
    "version": 3
   },
   "file_extension": ".py",
   "mimetype": "text/x-python",
   "name": "python",
   "nbconvert_exporter": "python",
   "pygments_lexer": "ipython3",
   "version": "3.11.9"
  }
 },
 "nbformat": 4,
 "nbformat_minor": 2
}
