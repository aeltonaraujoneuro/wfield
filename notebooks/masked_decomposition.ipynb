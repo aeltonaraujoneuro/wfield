{
 "cells": [
  {
   "cell_type": "code",
   "execution_count": null,
   "metadata": {},
   "outputs": [],
   "source": [
    "import numpy as np\n",
    "import pylab as plt\n",
    "\n",
    "\n",
    "from wfield import atlas_from_landmarks_file\n",
    "from wfield import *\n",
    "\n",
    "localdisk = '/home/data/JC111/20230520_164209/wfield/'\n",
    "lmarks = glob(pjoin(localdisk,'*landmarks*.json'))\n",
    "if len(lmarks):\n",
    "    atlas, areanames, brain_mask = atlas_from_landmarks_file(lmarks[0],do_transform=True)\n",
    "\n",
    "%matplotlib widget\n",
    "plt.imshow(atlas)"
   ]
  },
  {
   "cell_type": "code",
   "execution_count": null,
   "metadata": {},
   "outputs": [],
   "source": [
    "from wfield import approximate_svd, get_std_mask,load_stack\n",
    "import numpy as np\n",
    "from wfield import pjoin\n",
    "\n",
    "localdisk = '/home/data/JC111/20230520_164209/wfield/'\n",
    "dat = load_stack(localdisk)\n",
    "\n",
    "frames_average = np.load(pjoin(localdisk,'frames_average.npy'))\n",
    "\n",
    "mask  = get_std_mask(dat[:,0],threshold=60)\n",
    "U,SVT = approximate_svd(dat, frames_average, mask = mask, k = 200)\n"
   ]
  },
  {
   "cell_type": "code",
   "execution_count": null,
   "metadata": {},
   "outputs": [],
   "source": [
    "import pylab as plt\n",
    "from wfield import nb_play_movie\n",
    "from wfield import SVDStack\n",
    "%matplotlib widget\n",
    "stack = SVDStack(U,SVT)\n",
    "plt.figure()\n",
    "nb_play_movie(stack,cmap='gray')"
   ]
  }
 ],
 "metadata": {
  "kernelspec": {
   "display_name": "Python 3 (ipykernel)",
   "language": "python",
   "name": "python3"
  },
  "language_info": {
   "codemirror_mode": {
    "name": "ipython",
    "version": 3
   },
   "file_extension": ".py",
   "mimetype": "text/x-python",
   "name": "python",
   "nbconvert_exporter": "python",
   "pygments_lexer": "ipython3",
   "version": "3.10.6"
  }
 },
 "nbformat": 4,
 "nbformat_minor": 2
}
