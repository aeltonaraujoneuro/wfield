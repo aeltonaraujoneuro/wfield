{
 "cells": [
  {
   "cell_type": "markdown",
   "metadata": {},
   "source": [
    "## Extract the stimulus times from imager data"
   ]
  },
  {
   "cell_type": "code",
   "execution_count": null,
   "metadata": {},
   "outputs": [],
   "source": [
    "from wfield import *\n",
    "\n",
    "fnames = natsorted(glob('Frames_*.dat'))\n",
    "im = ImagerStack(fnames)\n",
    "\n",
    "# There is an onset per trial\n",
    "stimonsets = np.zeros((len(im.frames_offset)-1),dtype=int)\n",
    "stimoffsets = np.zeros((len(im.frames_offset)-1),dtype=int)\n",
    "for i in range(len(stimonsets)):\n",
    "    stimonsets[i] = np.where(im.extrainfo[i]['ch1'][-1*len(im.index_ch1[i]):]<im.extrainfo[i]['ch3_onset'][0])[-1][-1]\n",
    "    stimoffsets[i] = np.where(im.extrainfo[i]['ch1'][-1*len(im.index_ch1[i]):]<im.extrainfo[i]['ch3_onset'][-1])[-1][-1]\n",
    "stimonsets = im.frames_offset[:-1]+stimonsets\n",
    "stimoffsets = im.frames_offset[:-1]+stimoffsets\n",
    "\n",
    "np.save('stim_onsets.npy',stimonsets)\n",
    "np.save('stim_offsets.npy',stimoffsets)"
   ]
  },
  {
   "cell_type": "code",
   "execution_count": 206,
   "metadata": {},
   "outputs": [],
   "source": [
    "# Load the imager phase map data variables\n",
    "from scipy.io import loadmat\n",
    "info = loadmat('Plex66_08-Aug-2020_0_settings.mat',squeeze_me=True)\n",
    "\n",
    "vert = info['StimData']['VarVals'].tolist()[11,:]\n",
    "direct =  info['StimData']['VarVals'].tolist()[12,:]\n",
    "stimidx = [np.where((vert == 1)&(direct == 0))[0],\n",
    "          np.where((vert == 1)&(direct == 1))[0],\n",
    "          np.where((vert == 0)&(direct == 0))[0],\n",
    "          np.where((vert == 0)&(direct == 1))[0]]"
   ]
  }
 ],
 "metadata": {
  "kernelspec": {
   "display_name": "Python 3",
   "language": "python",
   "name": "python3"
  },
  "language_info": {
   "codemirror_mode": {
    "name": "ipython",
    "version": 3
   },
   "file_extension": ".py",
   "mimetype": "text/x-python",
   "name": "python",
   "nbconvert_exporter": "python",
   "pygments_lexer": "ipython3",
   "version": "3.7.4"
  }
 },
 "nbformat": 4,
 "nbformat_minor": 2
}
