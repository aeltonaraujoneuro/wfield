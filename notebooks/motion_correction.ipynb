{
 "cells": [
  {
   "cell_type": "markdown",
   "metadata": {},
   "source": [
    "# Perform image registration to correct motion \n",
    "\n",
    "Memory maps a file and performs motion correction. Use ``apply_shifts=False`` to run without changing the data.\n",
    "\n",
    "The file needs to be mapped in ``r+`` mode\n"
   ]
  },
  {
   "cell_type": "code",
   "execution_count": 14,
   "metadata": {},
   "outputs": [],
   "source": [
    "import os\n",
    "from wfield import *\n"
   ]
  },
  {
   "cell_type": "code",
   "execution_count": 15,
   "metadata": {},
   "outputs": [],
   "source": [
    "\n",
    "datadisk = (r'/datajoint-data/data/aeltona/AA_ROS-1706_2024-03-12_scan9FN2ANVG_sess9FN2ANVG/tif files')"
   ]
  },
  {
   "cell_type": "code",
   "execution_count": 16,
   "metadata": {},
   "outputs": [],
   "source": [
    "# datadisk = (r'/datajoint-data/data/aeltona')\n"
   ]
  },
  {
   "cell_type": "code",
   "execution_count": 17,
   "metadata": {},
   "outputs": [
    {
     "name": "stdout",
     "output_type": "stream",
     "text": [
      "Size of dataset file: 3.68 GB\n",
      "Estimated additional memory usage: 0.00 GB\n",
      "Total space needed: 3.68 GB\n"
     ]
    }
   ],
   "source": [
    "dataset_file_path = glob(pjoin(datadisk, '*.tif'))[0]\n",
    "dataset_file_size = os.path.getsize(dataset_file_path)\n",
    "# Estimate additional memory usage for operations\n",
    "# This would depend on the specifics of your 'motion_correct' function\n",
    "# and the size of the data it operates on\n",
    "additional_memory_usage = 0  # Replace this with your estimation\n",
    "\n",
    "# Total space needed\n",
    "total_space_needed = dataset_file_size + additional_memory_usage\n",
    "\n",
    "print(f\"Size of dataset file: {dataset_file_size / (1024 * 1024 * 1024):.2f} GB\")\n",
    "print(f\"Estimated additional memory usage: {additional_memory_usage / (1024 * 1024 * 1024):.2f} GB\")\n",
    "print(f\"Total space needed: {total_space_needed / (1024 * 1024 * 1024):.2f} GB\")"
   ]
  },
  {
   "cell_type": "code",
   "execution_count": 12,
   "metadata": {},
   "outputs": [
    {
     "data": {
      "text/plain": [
       "3946175399"
      ]
     },
     "execution_count": 12,
     "metadata": {},
     "output_type": "execute_result"
    }
   ],
   "source": [
    "dataset_file_size"
   ]
  },
  {
   "cell_type": "code",
   "execution_count": 2,
   "metadata": {},
   "outputs": [
    {
     "name": "stderr",
     "output_type": "stream",
     "text": [
      "Motion correction: 100%|██████████| 82/82 [12:07<00:00,  8.88s/it]\n"
     ]
    }
   ],
   "source": [
    "localdisk = '/temp_folder/' # this should be an SSD or a fast drive\n",
    "# from wfield import *\n",
    "\n",
    "dat_path = glob(pjoin(localdisk,'*.tif'))[0]\n",
    "# open file with read/write \n",
    "dat = mmap_dat(dat_path, mode='r+')\n",
    "\n",
    "(yshifts,xshifts),rot = motion_correct(dat,chunksize=512,\n",
    "                                     apply_shifts=True)\n",
    "del dat # close and finish writing\n",
    "\n",
    "# save the shifts\n",
    "shifts = np.rec.array([yshifts,xshifts],dtype=[('y','float32'),('x','float32')])\n",
    "np.save(pjoin(localdisk,'motion_correction_shifts.npy'),shifts)\n"
   ]
  },
  {
   "cell_type": "code",
   "execution_count": 1,
   "metadata": {},
   "outputs": [
    {
     "data": {
      "image/png": "[encoded data removed]",
      "text/plain": [
       "<Figure size 648x360 with 2 Axes>"
      ]
     },
     "metadata": {
      "needs_background": "light"
     },
     "output_type": "display_data"
    }
   ],
   "source": [
    "# plot the shifts\n",
    "\n",
    "from wfield import *\n",
    "\n",
    "import pylab as plt\n",
    "plt.matplotlib.style.use('ggplot')\n",
    "\n",
    "%matplotlib inline\n",
    "\n",
    "localdisk = '/mnt/dual/temp_folder/CSP23_20200226' # this should be an SSD or a fast drive\n",
    "\n",
    "shifts = np.load(pjoin(localdisk,'motion_correction_shifts.npy'))\n",
    "\n",
    "plot_summary_motion_correction(shifts,localdisk);"
   ]
  },
  {
   "cell_type": "code",
   "execution_count": 46,
   "metadata": {},
   "outputs": [],
   "source": [
    "# Look at the results\n",
    "dat = mmap_dat(dat_path, mode='r')\n",
    "napari_show(dat)"
   ]
  }
 ],
 "metadata": {
  "kernelspec": {
   "display_name": "Python 3",
   "language": "python",
   "name": "python3"
  },
  "language_info": {
   "codemirror_mode": {
    "name": "ipython",
    "version": 3
   },
   "file_extension": ".py",
   "mimetype": "text/x-python",
   "name": "python",
   "nbconvert_exporter": "python",
   "pygments_lexer": "ipython3",
   "version": "3.11.8"
  }
 },
 "nbformat": 4,
 "nbformat_minor": 4
}
