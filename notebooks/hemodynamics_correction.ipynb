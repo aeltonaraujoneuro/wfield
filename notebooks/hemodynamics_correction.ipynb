{
 "cells": [
  {
   "cell_type": "markdown",
   "metadata": {},
   "source": [
    "# Hemodynamic correction\n",
    "\n",
    "\n"
   ]
  },
  {
   "cell_type": "code",
   "execution_count": 71,
   "metadata": {},
   "outputs": [],
   "source": [
    "from wfieldtools import *\n",
    "from wfieldtools.hemocorrection import _hemodynamic_find_coeffs\n",
    "localdisk = 'd:\\\\temp_folder'\n",
    "from scipy.signal import butter,filtfilt\n",
    "\n",
    "# load decomposed \n",
    "U = np.load(pjoin(localdisk,'Ua.npy'))\n",
    "SVT = np.load(pjoin(localdisk,'SVTa.npy'))\n",
    "tstart = time.time()\n",
    "# split channels and subtract the mean to each\n",
    "SVTa = SVT[:,0::2] \n",
    "SVTb = SVT[:,1::2]\n",
    "\n",
    "# Highpass filter\n",
    "fs = 30.\n",
    "highpass= True\n",
    "nchunks = 1000\n",
    "if highpass:\n",
    "    b, a = butter(2,0.1/fs, btype='highpass');\n",
    "    SVTa = filtfilt(b, a, SVTa, padlen=50)\n",
    "    SVTb = filtfilt(b, a, SVTb, padlen=50)\n",
    "\n",
    "# subtract the mean\n",
    "SVTa = (SVTa.T - np.nanmean(SVTa,axis=1)).T\n",
    "SVTb = (SVTb.T - np.nanmean(SVTb,axis=1)).T\n",
    "\n",
    "npix = U.shape[0]\n",
    "idx = np.array_split(np.arange(0,npix),nchunks)\n",
    "\n",
    "rcoeffs = runpar(_hemodynamic_find_coeffs,\n",
    "                 [U[ind,:] for ind in idx],\n",
    "                 SVTa=SVTa,\n",
    "                 SVTb=SVTb)\n",
    "\n",
    "rcoeffs = np.hstack(rcoeffs)\n",
    "# remove nans and zeros\n",
    "rcoeffs[np.isnan(rcoeffs)] = 1\n",
    "\n",
    "T = np.dot(np.linalg.pinv(U),(U.T*rcoeffs).T)\n",
    "vout = SVTa - np.dot(T.T,SVTb)#np.dot(SVTb.T,T.T).T\n",
    "# vout -= np.percentile(vout,20,axis=0)"
   ]
  },
  {
   "cell_type": "code",
   "execution_count": 3,
   "metadata": {},
   "outputs": [],
   "source": [
    "from wfieldtools import *\n",
    "localdisk = 'd:\\\\temp_folder'\n",
    "fs = 30\n",
    "U = np.load(pjoin(localdisk,'Ua.npy'))\n",
    "SVT = np.load(pjoin(localdisk,'SVTa.npy'))\n",
    "\n",
    "SVTcorr, rcoeffs, T = hemodynamic_correction(U, SVT, fs=fs)        \n",
    "\n",
    "np.save(pjoin(localdisk,'rcoeffs.npy'),rcoeffs)\n",
    "np.save(pjoin(localdisk,'T.npy'),T)\n",
    "np.save(pjoin(localdisk,'SVTcorr.npy'),SVTcorr)\n"
   ]
  },
  {
   "cell_type": "code",
   "execution_count": 4,
   "metadata": {},
   "outputs": [],
   "source": [
    "%gui qt5\n",
    "# Prepare the interactive plot\n",
    "from  wfieldtools import *\n",
    "localdisk = 'd:/temp_folder/'\n",
    "dat_path = glob(pjoin(localdisk,'*.dat'))[0]\n",
    "dat = mmap_dat(dat_path)\n",
    "\n",
    "U = np.load(pjoin(localdisk,'Ua.npy'))\n",
    "SVT = np.load(pjoin(localdisk,'SVTcorr.npy'))\n",
    "\n",
    "stack = SVDStack(U,SVTcorr,dat.shape[-2:])\n",
    "del dat\n"
   ]
  },
  {
   "cell_type": "code",
   "execution_count": 6,
   "metadata": {},
   "outputs": [
    {
     "name": "stderr",
     "output_type": "stream",
     "text": [
      "Warning: ViewBox should be closed before application exit.\n",
      "Warning: ViewBox should be closed before application exit.\n"
     ]
    }
   ],
   "source": [
    "# Run (this needs to be in a different cell than the above) \n",
    "plot = qtgraph_show_svd(stack)"
   ]
  }
 ],
 "metadata": {
  "kernelspec": {
   "display_name": "Python 3",
   "language": "python",
   "name": "python3"
  },
  "language_info": {
   "codemirror_mode": {
    "name": "ipython",
    "version": 3
   },
   "file_extension": ".py",
   "mimetype": "text/x-python",
   "name": "python",
   "nbconvert_exporter": "python",
   "pygments_lexer": "ipython3",
   "version": "3.7.6"
  }
 },
 "nbformat": 4,
 "nbformat_minor": 4
}
