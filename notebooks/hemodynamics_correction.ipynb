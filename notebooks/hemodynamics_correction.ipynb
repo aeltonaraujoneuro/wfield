{
 "cells": [
  {
   "cell_type": "markdown",
   "metadata": {},
   "source": [
    "# Hemodynamic correction\n",
    "\n",
    "The hemodynamic correction is done by:\n",
    "\n",
    "- High pass filtering the signal above 0.1 Hz and subtracting the mean\n",
    "- Computing the regression coefficients between the 2 channels.\n",
    "- Subtracting a scaled version of the temporal components of one channel to the other to obtain the corrected temporal components.\n"
   ]
  },
  {
   "cell_type": "code",
   "execution_count": 6,
   "metadata": {},
   "outputs": [
    {
     "name": "stdout",
     "output_type": "stream",
     "text": [
      "Skipping lowpass on the violet channel.\n",
      "Done hemodynamic correction in 40.531662464141846 s \n"
     ]
    }
   ],
   "source": [
    "from wfield import *\n",
    "\n",
    "localdisk = r'D:\\data\\aeltona\\AA_ROS-1706_2024-03-12_scan9FN2ANVG_sess9FN2ANVG'\n",
    "fs = 10\n",
    "\n",
    "U = np.load(pjoin(localdisk,'U.npy'))\n",
    "SVT = np.load(pjoin(localdisk,'SVT.npy'))\n",
    "\n",
    "tstart = time.time()\n",
    "\n",
    "SVT_470 = SVT[:,0::2]\n",
    "t = np.arange(SVT.shape[1]) # interpolate the violet\n",
    "from scipy.interpolate import interp1d\n",
    "SVT_405 = interp1d(t[1::2],SVT[:,1::2],axis=1,\n",
    "                    fill_value='extrapolate')(t[0::2])\n",
    "SVTcorr, rcoeffs, T = hemodynamic_correction(U, \n",
    "                                             SVT_470, \n",
    "                                             SVT_405, \n",
    "                                             fs=fs,\n",
    "                                             freq_lowpass=10)  \n",
    "\n",
    "print('Done hemodynamic correction in {0} s '.format(time.time()-tstart))\n",
    "\n",
    "np.save(pjoin(localdisk,'rcoeffs.npy'),rcoeffs)\n",
    "np.save(pjoin(localdisk,'T.npy'),T)\n",
    "np.save(pjoin(localdisk,'SVTcorr.npy'),SVTcorr)\n"
   ]
  },
  {
   "cell_type": "code",
   "execution_count": 7,
   "metadata": {},
   "outputs": [
    {
     "ename": "",
     "evalue": "",
     "output_type": "error",
     "traceback": [
      "\u001b[1;31mThe Kernel crashed while executing code in the current cell or a previous cell. \n",
      "\u001b[1;31mPlease review the code in the cell(s) to identify a possible cause of the failure. \n",
      "\u001b[1;31mClick <a href='https://aka.ms/vscodeJupyterKernelCrash'>here</a> for more info. \n",
      "\u001b[1;31mView Jupyter <a href='command:jupyter.viewOutput'>log</a> for further details."
     ]
    }
   ],
   "source": [
    "%gui qt5\n",
    "# Prepare the interactive plot\n",
    "from  wfield import *\n",
    "#localdisk = '/mnt/dual/temp_folder/CSP22_20200226/'\n",
    "\n",
    "stack = SVDStack(U,SVTcorr)"
   ]
  },
  {
   "cell_type": "code",
   "execution_count": null,
   "metadata": {},
   "outputs": [
    {
     "ename": "ValueError",
     "evalue": "cannot reshape array of size 19800 into shape (600,600,newaxis)",
     "output_type": "error",
     "traceback": [
      "\u001b[1;31m---------------------------------------------------------------------------\u001b[0m",
      "\u001b[1;31mValueError\u001b[0m                                Traceback (most recent call last)",
      "Cell \u001b[1;32mIn[3], line 2\u001b[0m\n\u001b[0;32m      1\u001b[0m \u001b[38;5;66;03m# Run (this needs to be in a different cell than the above) \u001b[39;00m\n\u001b[1;32m----> 2\u001b[0m plot \u001b[38;5;241m=\u001b[39m qtgraph_show_svd(stack)\n",
      "File \u001b[1;32mC:\\myprograms\\Anaconda\\Lib\\site-packages\\wfield\\viz.py:191\u001b[0m, in \u001b[0;36mqtgraph_show_svd\u001b[1;34m(stack)\u001b[0m\n\u001b[0;32m    189\u001b[0m \u001b[38;5;28;01mdef\u001b[39;00m \u001b[38;5;21mqtgraph_show_svd\u001b[39m(stack):\n\u001b[0;32m    190\u001b[0m     \u001b[38;5;28;01mfrom\u001b[39;00m \u001b[38;5;21;01m.\u001b[39;00m\u001b[38;5;21;01mwidgets\u001b[39;00m \u001b[38;5;28;01mimport\u001b[39;00m SVDViewer\n\u001b[1;32m--> 191\u001b[0m     \u001b[38;5;28;01mreturn\u001b[39;00m SVDViewer(stack)\n",
      "File \u001b[1;32mC:\\myprograms\\Anaconda\\Lib\\site-packages\\wfield\\widgets.py:737\u001b[0m, in \u001b[0;36mSVDViewer.__init__\u001b[1;34m(self, stack, folder, raw, mask, reference, trial_onsets, start_correlation)\u001b[0m\n\u001b[0;32m    733\u001b[0m \u001b[38;5;28mself\u001b[39m\u001b[38;5;241m.\u001b[39msetDockOptions(QMainWindow\u001b[38;5;241m.\u001b[39mAllowTabbedDocks \u001b[38;5;241m|\u001b[39m\n\u001b[0;32m    734\u001b[0m                     QMainWindow\u001b[38;5;241m.\u001b[39mAllowNestedDocks \u001b[38;5;241m|\u001b[39m\n\u001b[0;32m    735\u001b[0m                     QMainWindow\u001b[38;5;241m.\u001b[39mAnimatedDocks)\n\u001b[0;32m    736\u001b[0m \u001b[38;5;28mself\u001b[39m\u001b[38;5;241m.\u001b[39mroiwidget \u001b[38;5;241m=\u001b[39m ROIPlotWidget(stack)        \n\u001b[1;32m--> 737\u001b[0m \u001b[38;5;28mself\u001b[39m\u001b[38;5;241m.\u001b[39mdisplaywidget \u001b[38;5;241m=\u001b[39m SVDDisplayWidget( \u001b[38;5;28mself\u001b[39m\u001b[38;5;241m.\u001b[39mstack,parent \u001b[38;5;241m=\u001b[39m \u001b[38;5;28mself\u001b[39m,reference \u001b[38;5;241m=\u001b[39m \u001b[38;5;28mself\u001b[39m\u001b[38;5;241m.\u001b[39mreferencename)\n\u001b[0;32m    738\u001b[0m \u001b[38;5;28;01mif\u001b[39;00m start_correlation:\n\u001b[0;32m    739\u001b[0m     \u001b[38;5;28mself\u001b[39m\u001b[38;5;241m.\u001b[39mlocalcorrwidget \u001b[38;5;241m=\u001b[39m LocalCorrelationWidget(stack)\n",
      "File \u001b[1;32mC:\\myprograms\\Anaconda\\Lib\\site-packages\\wfield\\widgets.py:573\u001b[0m, in \u001b[0;36mSVDDisplayWidget.__init__\u001b[1;34m(self, stack, parent, reference)\u001b[0m\n\u001b[0;32m    571\u001b[0m \u001b[38;5;28mself\u001b[39m\u001b[38;5;241m.\u001b[39mregions_plot \u001b[38;5;241m=\u001b[39m []\n\u001b[0;32m    572\u001b[0m \u001b[38;5;28mself\u001b[39m\u001b[38;5;241m.\u001b[39miframe \u001b[38;5;241m=\u001b[39m np\u001b[38;5;241m.\u001b[39mclip(\u001b[38;5;241m51\u001b[39m,\u001b[38;5;241m1\u001b[39m,\u001b[38;5;28mlen\u001b[39m(\u001b[38;5;28mself\u001b[39m\u001b[38;5;241m.\u001b[39mstack))\n\u001b[1;32m--> 573\u001b[0m tmp \u001b[38;5;241m=\u001b[39m \u001b[38;5;28mself\u001b[39m\u001b[38;5;241m.\u001b[39mstack[\u001b[38;5;241m1\u001b[39m:np\u001b[38;5;241m.\u001b[39mclip(\u001b[38;5;241m100\u001b[39m,\u001b[38;5;241m0\u001b[39m,\u001b[38;5;28mlen\u001b[39m(\u001b[38;5;28mself\u001b[39m\u001b[38;5;241m.\u001b[39mstack))]\n\u001b[0;32m    574\u001b[0m \u001b[38;5;28mself\u001b[39m\u001b[38;5;241m.\u001b[39m_init_ui()\n\u001b[0;32m    575\u001b[0m \u001b[38;5;28mself\u001b[39m\u001b[38;5;241m.\u001b[39m_add_hist()\n",
      "File \u001b[1;32mC:\\myprograms\\Anaconda\\Lib\\site-packages\\wfield\\utils.py:388\u001b[0m, in \u001b[0;36mSVDStack.__getitem__\u001b[1;34m(self, *args)\u001b[0m\n\u001b[0;32m    386\u001b[0m \u001b[38;5;28;01melse\u001b[39;00m:\n\u001b[0;32m    387\u001b[0m     idxz \u001b[38;5;241m=\u001b[39m args[\u001b[38;5;241m0\u001b[39m]        \n\u001b[1;32m--> 388\u001b[0m \u001b[38;5;28;01mreturn\u001b[39;00m reconstruct(\u001b[38;5;28mself\u001b[39m\u001b[38;5;241m.\u001b[39mU,\u001b[38;5;28mself\u001b[39m\u001b[38;5;241m.\u001b[39mSVT[:,idxz],dims \u001b[38;5;241m=\u001b[39m \u001b[38;5;28mself\u001b[39m\u001b[38;5;241m.\u001b[39mshape[\u001b[38;5;241m1\u001b[39m:])\n",
      "File \u001b[1;32mC:\\myprograms\\Anaconda\\Lib\\site-packages\\wfield\\utils.py:265\u001b[0m, in \u001b[0;36mreconstruct\u001b[1;34m(u, svt, dims)\u001b[0m\n\u001b[0;32m    262\u001b[0m     \u001b[38;5;28;01mif\u001b[39;00m dims \u001b[38;5;129;01mis\u001b[39;00m \u001b[38;5;28;01mNone\u001b[39;00m:\n\u001b[0;32m    263\u001b[0m         dims \u001b[38;5;241m=\u001b[39m u\u001b[38;5;241m.\u001b[39mshape[:\u001b[38;5;241m2\u001b[39m]\n\u001b[1;32m--> 265\u001b[0m \u001b[38;5;28;01mreturn\u001b[39;00m u\u001b[38;5;129m@svt\u001b[39m\u001b[38;5;241m.\u001b[39mreshape((\u001b[38;5;241m*\u001b[39mdims,\u001b[38;5;241m-\u001b[39m\u001b[38;5;241m1\u001b[39m))\u001b[38;5;241m.\u001b[39mtranspose(\u001b[38;5;241m-\u001b[39m\u001b[38;5;241m1\u001b[39m,\u001b[38;5;241m0\u001b[39m,\u001b[38;5;241m1\u001b[39m)\u001b[38;5;241m.\u001b[39msqueeze()\n",
      "\u001b[1;31mValueError\u001b[0m: cannot reshape array of size 19800 into shape (600,600,newaxis)"
     ]
    }
   ],
   "source": [
    "# Run (this needs to be in a different cell than the above) \n",
    "plot = qtgraph_show_svd(stack)"
   ]
  },
  {
   "cell_type": "markdown",
   "metadata": {},
   "source": [
    "#### Use the following for debugging"
   ]
  },
  {
   "cell_type": "code",
   "execution_count": null,
   "metadata": {},
   "outputs": [],
   "source": [
    "localdisk = r'D:\\data\\aeltona\\AA_ROS-1706_2024-03-12_scan9FN2ANVG_sess9FN2ANVG'\n"
   ]
  },
  {
   "cell_type": "code",
   "execution_count": null,
   "metadata": {},
   "outputs": [
    {
     "ename": "NameError",
     "evalue": "name 'rcoeffs' is not defined",
     "output_type": "error",
     "traceback": [
      "\u001b[1;31m---------------------------------------------------------------------------\u001b[0m",
      "\u001b[1;31mNameError\u001b[0m                                 Traceback (most recent call last)",
      "Cell \u001b[1;32mIn[5], line 6\u001b[0m\n\u001b[0;32m      3\u001b[0m frame_rate \u001b[38;5;241m=\u001b[39m \u001b[38;5;241m10.\u001b[39m\n\u001b[0;32m      4\u001b[0m \u001b[38;5;28;01mfrom\u001b[39;00m \u001b[38;5;21;01mwfield\u001b[39;00m\u001b[38;5;21;01m.\u001b[39;00m\u001b[38;5;21;01mncaas\u001b[39;00m \u001b[38;5;28;01mimport\u001b[39;00m dual_color_hemodymamic_correction\n\u001b[1;32m----> 6\u001b[0m SVTcorr \u001b[38;5;241m=\u001b[39m dual_color_hemodymamic_correction(rcoeffs,\n\u001b[0;32m      7\u001b[0m                                             SVT_470,\n\u001b[0;32m      8\u001b[0m                                             SVT_405,\n\u001b[0;32m      9\u001b[0m                                             U,\n\u001b[0;32m     10\u001b[0m                                             T,\n\u001b[0;32m     11\u001b[0m                                             frame_rate,\n\u001b[0;32m     12\u001b[0m                                             output_folder)\n",
      "\u001b[1;31mNameError\u001b[0m: name 'rcoeffs' is not defined"
     ]
    }
   ],
   "source": [
    "\n",
    "from wfield import np,pjoin\n",
    "output_folder = localdisk\n",
    "frame_rate = 10.\n",
    "from wfield.ncaas import dual_color_hemodymamic_correction\n",
    "\n",
    "SVTcorr = dual_color_hemodymamic_correction(rcoeffs,\n",
    "                                            SVT_470,\n",
    "                                            SVT_405,\n",
    "                                            U,\n",
    "                                            T,\n",
    "                                            frame_rate,\n",
    "                                            output_folder);"
   ]
  },
  {
   "cell_type": "code",
   "execution_count": null,
   "metadata": {},
   "outputs": [],
   "source": []
  }
 ],
 "metadata": {
  "kernelspec": {
   "display_name": "Python 3 (ipykernel)",
   "language": "python",
   "name": "python3"
  },
  "language_info": {
   "codemirror_mode": {
    "name": "ipython",
    "version": 3
   },
   "file_extension": ".py",
   "mimetype": "text/x-python",
   "name": "python",
   "nbconvert_exporter": "python",
   "pygments_lexer": "ipython3",
   "version": "3.11.8"
  }
 },
 "nbformat": 4,
 "nbformat_minor": 4
}
