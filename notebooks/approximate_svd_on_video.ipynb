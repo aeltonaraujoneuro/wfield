{
 "cells": [
  {
   "cell_type": "markdown",
   "metadata": {},
   "source": [
    "# Approximate single value decomposition of a video dataset\n",
    "\n",
    "The aproximate implementation works by:\n",
    "* binned the movie in 1 s bins (per channel)\n",
    "* Estimating U from the binned movie.\n",
    "* Iterating over the raw data to estimate S.VT \n",
    "\n",
    "Details in wfield-tools/decomposition.py \n",
    "\n",
    "The first example subtracts the average from each frame (i.e. the array in `frames_average` with 3 dimensions (ch,w,h)). The average can be the mean of all frames or only those in the baseline period of the experiment.\n"
   ]
  },
  {
   "cell_type": "code",
   "execution_count": null,
   "metadata": {},
   "outputs": [],
   "source": [
    "from wfield import *\n",
    "\n",
    "dat = load_stack('/home/data/LO037/20221005_162433/chipmunk/LO037_20221005_162433_chipmunk_DemonstratorAudiTask_DemonstratorBottom_00000000.avi')\n"
   ]
  },
  {
   "cell_type": "code",
   "execution_count": null,
   "metadata": {},
   "outputs": [],
   "source": [
    "%matplotlib qt\n",
    "nb_play_movie(dat)"
   ]
  },
  {
   "cell_type": "code",
   "execution_count": null,
   "metadata": {
    "scrolled": false
   },
   "outputs": [],
   "source": [
    "dat = load_stack(filename)\n",
    "# frames_average = np.load('frames_average.npy')\n",
    "chunkidx = chunk_indices(len(dat),chunksize=256)\n",
    "frame_averages = []\n",
    "for on,off in tqdm(chunkidx, desc='Computing average.'):\n",
    "    frame_averages.append(dat[on:off].mean(axis = 0))\n",
    "frames_average = np.stack(frame_averages).mean(axis = 0)\n",
    "U,SVT = approximate_svd(dat, frames_average,nframes_per_bin=2)\n",
    "# np.save(pjoin(localdisk,'U.npy'),U)\n",
    "# np.save(pjoin(localdisk,'SVT.npy'),SVT)"
   ]
  },
  {
   "cell_type": "code",
   "execution_count": null,
   "metadata": {},
   "outputs": [],
   "source": [
    "# Reconstruct and reshape into 2 channels\n",
    "onset = 100\n",
    "nframes = 10\n",
    "mov = reconstruct(U,SVT[:,onset:onset+nframes]\n",
    "                 ).reshape(nframes,1,*U.shape[:2])\n",
    "# take a look at the differerce between the raw and the reconstructed\n",
    "%matplotlib notebook\n",
    "\n",
    "nb_play_movie((mov*frames_average)+frames_average)# - dat[onset:onset+nframes])"
   ]
  }
 ],
 "metadata": {
  "kernelspec": {
   "display_name": "Python 3 (ipykernel)",
   "language": "python",
   "name": "python3"
  },
  "language_info": {
   "codemirror_mode": {
    "name": "ipython",
    "version": 3
   },
   "file_extension": ".py",
   "mimetype": "text/x-python",
   "name": "python",
   "nbconvert_exporter": "python",
   "pygments_lexer": "ipython3",
   "version": "3.10.6"
  }
 },
 "nbformat": 4,
 "nbformat_minor": 4
}
