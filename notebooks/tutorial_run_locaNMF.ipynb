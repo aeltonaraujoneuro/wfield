{
 "cells": [
  {
   "cell_type": "code",
   "execution_count": null,
   "id": "1637065d",
   "metadata": {},
   "outputs": [],
   "source": [
    "from wfield import SVDStack\n",
    "from wfield import *\n",
    "from wfield.local_nmf import compute_locaNMF\n",
    "%matplotlib widget\n",
    "\n",
    "\n",
    "localdisk = '/home/data/JC111/20230520_164209/wfield/'  # the results folder\n",
    "\n",
    "U = np.load(pjoin(localdisk,'U.npy'))\n",
    "SVT = np.load(pjoin(localdisk,'SVTcorr.npy'))\n",
    "mask = np.load(pjoin(localdisk,'mask.npy'))\n",
    "lmarksfile = glob(pjoin(localdisk,'*landmarks*.json'))\n",
    "lmarks = load_allen_landmarks(lmarksfile[0])\n",
    "\n",
    "\n",
    "def get_U_atlas(U,M):\n",
    "    U = U.copy()\n",
    "    U[:,0,:] = 1e-10\n",
    "    U[0,:,:] = 1e-10\n",
    "    U[-1,:,:] = 1e-10\n",
    "    U[:,-1,:] = 1e-10\n",
    "\n",
    "    # transpose U\n",
    "    return np.stack(runpar(im_apply_transform, U.transpose([2,0,1]),\n",
    "                           M = M)).transpose([1,2,0]).astype(np.float32)\n",
    "    \n",
    "Uatlas = get_U_atlas(U,M = lmarks['transform'])\n",
    "# load the mask \n",
    "mask = im_apply_transform(mask.astype('int8'), M = lmarks['transform'])\n",
    "\n",
    "# load the atlas\n",
    "atlas, areanames, brain_mask = atlas_from_landmarks_file(lmarksfile[0],do_transform=False)\n",
    "\n",
    "mask = (mask>0) & (atlas != 0)  \n",
    "atlas[mask==0] = 0   # this will discard the masked areas from the atlas\n"
   ]
  },
  {
   "cell_type": "code",
   "execution_count": null,
   "id": "2044ba9a",
   "metadata": {},
   "outputs": [],
   "source": [
    "def im_apply_affine(im,transform):\n",
    "    W,H = im.shape\n",
    "    M = transform.params[:2,:]\n",
    "    return cv2.warpAffine(im, M, (H, W),cv2.WARP_INVERSE_MAP)\n",
    "def get_U_atlas(U,M):\n",
    "    U = U.copy()\n",
    "    U[:,0,:] = 1e-10\n",
    "    U[0,:,:] = 1e-10\n",
    "    U[-1,:,:] = 1e-10\n",
    "    U[:,-1,:] = 1e-10\n",
    "\n",
    "    # transpose U\n",
    "    return np.stack(runpar(im_apply_affine, U.transpose([2,0,1]),\n",
    "                           transform = M)).transpose([1,2,0]).astype(np.float32)\n",
    "    \n",
    "Uatlas = get_U_atlas(U,M = lmarks['transform_inverse'])"
   ]
  },
  {
   "cell_type": "code",
   "execution_count": null,
   "id": "f586e646",
   "metadata": {},
   "outputs": [],
   "source": [
    "# play the stack\n",
    "plt.figure()\n",
    "nb_play_movie(SVDStack(Uatlas,SVT),clim = [-0.1,0.1])"
   ]
  },
  {
   "cell_type": "code",
   "execution_count": null,
   "id": "1a64a448",
   "metadata": {
    "scrolled": false
   },
   "outputs": [],
   "source": [
    "# Run semiNMF, seed region is the entire brain mask\n",
    "Asemi,Csemi,regions_semi = compute_locaNMF(Uatlas,\n",
    "                                           SVT,\n",
    "                                           mask.astype('int8'), # this is the seed, in this case the whole dorsal cortex\n",
    "                                           mask,\n",
    "                                           minrank = 1, \n",
    "                                           maxrank = 200, \n",
    "                                           min_pixels = 100,\n",
    "                                           loc_thresh = 1, \n",
    "                                           r2_thresh = 0.99)\n",
    "\n",
    "# # Run locaNMF, seed region is the CCF atlas\n",
    "A,C,regions = compute_locaNMF(Uatlas,\n",
    "                              SVT,\n",
    "                              atlas, # seeds the atlas\n",
    "                              mask,\n",
    "                              minrank = 1, \n",
    "                              maxrank = 20, \n",
    "                              min_pixels = 100,\n",
    "                              loc_thresh = 60, \n",
    "                              r2_thresh = 0.99)\n"
   ]
  },
  {
   "cell_type": "code",
   "execution_count": null,
   "id": "73f8e540",
   "metadata": {},
   "outputs": [],
   "source": [
    "plt.figure()\n",
    "nmf = SVDStack(A,C)\n",
    "nb_play_movie(nmf,clim=[-0.06,0.06],cmap='inferno')"
   ]
  },
  {
   "cell_type": "code",
   "execution_count": null,
   "id": "108bb7c4",
   "metadata": {},
   "outputs": [],
   "source": [
    "import torch # clear the GPU\n",
    "torch.cuda.empty_cache()"
   ]
  },
  {
   "cell_type": "code",
   "execution_count": null,
   "id": "c986c680",
   "metadata": {},
   "outputs": [],
   "source": [
    "# show the spatial components. Note that there should be a metric to ditch components that are small\n",
    "plt.figure()\n",
    "nb_play_movie(A.transpose(2,0,1),clim=[0,1],cmap='hot')"
   ]
  },
  {
   "cell_type": "code",
   "execution_count": null,
   "id": "1e311191",
   "metadata": {},
   "outputs": [],
   "source": [
    "# Incomplete example of how to plot the correlations\n",
    "# Preprocess C to remove nans\n",
    "areas = regions\n",
    "areainds = np.unique(regions)\n",
    "from sklearn.cross_decomposition import CCA\n",
    "\n",
    "keepinds=np.nonzero(np.sum(np.isfinite(C),axis=0))[0]\n",
    "C=C[:,keepinds]\n",
    "corrmat=np.zeros((len(areainds),len(areainds)))\n",
    "skipinds=[]\n",
    "for i,area_i in enumerate(areainds):\n",
    "    for j,area_j in enumerate(areainds):\n",
    "        if i==0 and area_j not in areas:\n",
    "            skipinds.append(j)\n",
    "        C_i=C[np.where(areas==area_i)[0],:].T\n",
    "        C_j=C[np.where(areas==area_j)[0],:].T\n",
    "        if i not in skipinds and j not in skipinds:\n",
    "            cca=CCA(n_components=1)\n",
    "            cca.fit(C_i,C_j)\n",
    "            C_i_cca,C_j_cca=cca.transform(C_i,C_j)\n",
    "            try:\n",
    "                C_i_cca=C_i_cca[:,0]\n",
    "            except:\n",
    "                pass\n",
    "            try:\n",
    "                C_j_cca=C_j_cca[:,0]\n",
    "            except:\n",
    "                pass               \n",
    "            corrmat[i,j]=np.corrcoef(C_i_cca,C_j_cca)[0,1]\n",
    "corrmat=np.delete(corrmat,skipinds,axis=0); \n",
    "corrmat=np.delete(corrmat,skipinds,axis=1);\n",
    "corr_areanames=np.delete(areanames,skipinds)\n",
    "print('plotting correlations',flush=True)\n",
    "fig=plt.figure(figsize=(3,3))\n",
    "plt.imshow(corrmat,cmap=plt.cm.get_cmap('jet')); plt.colorbar(shrink=0.8)\n",
    "plt.get_cmap('jet')\n",
    "# this map needs to be adjusted to display the area names\n",
    "# plt.xticks(ticks=np.arange(len(areainds)-len(skipinds)),labels=corr_areanames,rotation=90); \n",
    "# plt.yticks(ticks=np.arange(len(areainds)),labels=corr_areanames); \n",
    "plt.title('CCA between all regions',fontsize=12)\n",
    "plt.xlabel('Region i',fontsize=10)\n",
    "plt.ylabel('Region j',fontsize=10)\n"
   ]
  },
  {
   "cell_type": "code",
   "execution_count": null,
   "id": "3fc07f44",
   "metadata": {},
   "outputs": [],
   "source": [
    "# show the areas that have components\n",
    "tt = A.transpose(2,0,1).copy()\n",
    "tt[~np.isfinite(tt)] = 0\n",
    "\n",
    "T = im_argmax_hsv(tt)\n",
    "plt.figure()\n",
    "plt.imshow(T)"
   ]
  },
  {
   "cell_type": "code",
   "execution_count": null,
   "id": "d672fe3c",
   "metadata": {},
   "outputs": [],
   "source": [
    "# show activity overlayed in the atlas.. (not very useful)\n",
    "plt.figure()\n",
    "stack = SVDStack(Uatlas,SVT)\n",
    "nb_play_movie(stack,clim=[-0.1,0.1])\n",
    "plt.imshow(atlas,alpha=0.4)"
   ]
  }
 ],
 "metadata": {
  "kernelspec": {
   "display_name": "Python 3 (ipykernel)",
   "language": "python",
   "name": "python3"
  },
  "language_info": {
   "codemirror_mode": {
    "name": "ipython",
    "version": 3
   },
   "file_extension": ".py",
   "mimetype": "text/x-python",
   "name": "python",
   "nbconvert_exporter": "python",
   "pygments_lexer": "ipython3",
   "version": "3.10.12"
  }
 },
 "nbformat": 4,
 "nbformat_minor": 5
}
