{
 "cells": [
  {
   "cell_type": "markdown",
   "metadata": {},
   "source": [
    "# Approximate single value decomposition of a video dataset\n",
    "\n",
    "The aproximate implementation works by:\n",
    "* binned the movie in 1 s bins (per channel)\n",
    "* Estimating U from the binned movie.\n",
    "* Iterating over the raw data to estimate S.VT \n",
    "\n",
    "Details in wfield-tools/decomposition.py \n",
    "\n",
    "The first example subtracts the average from each frame (i.e. the array in `frames_average` with 3 dimensions (ch,w,h)). The average can be the mean of all frames or only those in the baseline period of the experiment.\n"
   ]
  },
  {
   "cell_type": "code",
   "execution_count": 2,
   "metadata": {},
   "outputs": [],
   "source": [
    "import os\n",
    "import matplotlib.pyplot as plt\n",
    "# %matplotlib inline\n",
    "from matplotlib.backend_bases import MouseButton\n"
   ]
  },
  {
   "cell_type": "code",
   "execution_count": 3,
   "metadata": {},
   "outputs": [
    {
     "name": "stdout",
     "output_type": "stream",
     "text": [
      "pyqt5\n"
     ]
    }
   ],
   "source": [
    "# print(os.environ.get('QT_API'))\n",
    "\n",
    "os.environ[\"QT_API\"] = \"pyqt5\"\n",
    "print(os.environ.get('QT_API'))\n"
   ]
  },
  {
   "cell_type": "code",
   "execution_count": null,
   "metadata": {},
   "outputs": [],
   "source": [
    "import matplotlib\n",
    "matplotlib.use('Qt5Agg')\n",
    "import matplotlib.pyplot as plt\n",
    "\n"
   ]
  },
  {
   "cell_type": "code",
   "execution_count": 1,
   "metadata": {},
   "outputs": [
    {
     "ename": "NameError",
     "evalue": "name 'plt' is not defined",
     "output_type": "error",
     "traceback": [
      "\u001b[1;31m---------------------------------------------------------------------------\u001b[0m",
      "\u001b[1;31mNameError\u001b[0m                                 Traceback (most recent call last)",
      "Cell \u001b[1;32mIn[1], line 1\u001b[0m\n\u001b[1;32m----> 1\u001b[0m plt\u001b[38;5;241m.\u001b[39mplot([\u001b[38;5;241m0\u001b[39m, \u001b[38;5;241m1\u001b[39m, \u001b[38;5;241m2\u001b[39m], [\u001b[38;5;241m0\u001b[39m, \u001b[38;5;241m1\u001b[39m, \u001b[38;5;241m4\u001b[39m])\n\u001b[0;32m      2\u001b[0m plt\u001b[38;5;241m.\u001b[39mshow()\n",
      "\u001b[1;31mNameError\u001b[0m: name 'plt' is not defined"
     ]
    }
   ],
   "source": [
    "plt.plot([0, 1, 2], [0, 1, 4])\n",
    "plt.show()"
   ]
  },
  {
   "cell_type": "code",
   "execution_count": null,
   "metadata": {},
   "outputs": [],
   "source": [
    "from wfield import *\n",
    "\n",
    "dat = load_stack(r'D:\\data\\aeltona\\AA_ROS-1706_2024-03-12_scan9FN2ANVG_sess9FN2ANVG/scan9FN2ANVG_Oddball_AA_ROS-1706_2025_MMStack_Default.ome.tif')\n"
   ]
  },
  {
   "cell_type": "code",
   "execution_count": null,
   "metadata": {},
   "outputs": [],
   "source": [
    "%matplotlib qt\n",
    "nb_play_movie(dat)"
   ]
  },
  {
   "cell_type": "code",
   "execution_count": null,
   "metadata": {},
   "outputs": [],
   "source": [
    "#dat = load_stack(filename)\n",
    "# frames_average = np.load('frames_average.npy')\n",
    "chunkidx = chunk_indices(len(dat),chunksize=256)\n",
    "frame_averages = []\n",
    "for on,off in tqdm(chunkidx, desc='Computing average.'):\n",
    "    frame_averages.append(dat[on:off].mean(axis = 0))\n",
    "frames_average = np.stack(frame_averages).mean(axis = 0)\n",
    "U,SVT = approximate_svd(dat, frames_average,nframes_per_bin=2)\n"
   ]
  },
  {
   "cell_type": "code",
   "execution_count": 11,
   "metadata": {},
   "outputs": [],
   "source": [
    "np.save(pjoin(localdisk,'U.npy'),U)\n",
    "np.save(pjoin(localdisk,'SVT.npy'),SVT)"
   ]
  },
  {
   "cell_type": "code",
   "execution_count": 7,
   "metadata": {},
   "outputs": [],
   "source": [
    "localdisk = r'D:\\data\\aeltona\\AA_ROS-1706_2024-03-12_scan9FN2ANVG_sess9FN2ANVG'"
   ]
  },
  {
   "cell_type": "code",
   "execution_count": 8,
   "metadata": {},
   "outputs": [
    {
     "ename": "ValueError",
     "evalue": "cannot reshape array of size 2000 into shape (600,600,newaxis)",
     "output_type": "error",
     "traceback": [
      "\u001b[1;31m---------------------------------------------------------------------------\u001b[0m",
      "\u001b[1;31mValueError\u001b[0m                                Traceback (most recent call last)",
      "Cell \u001b[1;32mIn[8], line 4\u001b[0m\n\u001b[0;32m      2\u001b[0m onset \u001b[38;5;241m=\u001b[39m \u001b[38;5;241m100\u001b[39m\n\u001b[0;32m      3\u001b[0m nframes \u001b[38;5;241m=\u001b[39m \u001b[38;5;241m10\u001b[39m\n\u001b[1;32m----> 4\u001b[0m mov \u001b[38;5;241m=\u001b[39m reconstruct(U,SVT[:,onset:onset\u001b[38;5;241m+\u001b[39mnframes]\n\u001b[0;32m      5\u001b[0m                  )\u001b[38;5;241m.\u001b[39mreshape(nframes,\u001b[38;5;241m1\u001b[39m,\u001b[38;5;241m*\u001b[39mU\u001b[38;5;241m.\u001b[39mshape[:\u001b[38;5;241m2\u001b[39m])\n\u001b[0;32m      6\u001b[0m \u001b[38;5;66;03m# take a look at the differerce between the raw and the reconstructed\u001b[39;00m\n\u001b[0;32m      7\u001b[0m get_ipython()\u001b[38;5;241m.\u001b[39mrun_line_magic(\u001b[38;5;124m'\u001b[39m\u001b[38;5;124mmatplotlib\u001b[39m\u001b[38;5;124m'\u001b[39m, \u001b[38;5;124m'\u001b[39m\u001b[38;5;124mnotebook\u001b[39m\u001b[38;5;124m'\u001b[39m)\n",
      "File \u001b[1;32mC:\\myprograms\\Anaconda\\Lib\\site-packages\\wfield\\utils.py:265\u001b[0m, in \u001b[0;36mreconstruct\u001b[1;34m(u, svt, dims)\u001b[0m\n\u001b[0;32m    262\u001b[0m     \u001b[38;5;28;01mif\u001b[39;00m dims \u001b[38;5;129;01mis\u001b[39;00m \u001b[38;5;28;01mNone\u001b[39;00m:\n\u001b[0;32m    263\u001b[0m         dims \u001b[38;5;241m=\u001b[39m u\u001b[38;5;241m.\u001b[39mshape[:\u001b[38;5;241m2\u001b[39m]\n\u001b[1;32m--> 265\u001b[0m \u001b[38;5;28;01mreturn\u001b[39;00m u\u001b[38;5;129m@svt\u001b[39m\u001b[38;5;241m.\u001b[39mreshape((\u001b[38;5;241m*\u001b[39mdims,\u001b[38;5;241m-\u001b[39m\u001b[38;5;241m1\u001b[39m))\u001b[38;5;241m.\u001b[39mtranspose(\u001b[38;5;241m-\u001b[39m\u001b[38;5;241m1\u001b[39m,\u001b[38;5;241m0\u001b[39m,\u001b[38;5;241m1\u001b[39m)\u001b[38;5;241m.\u001b[39msqueeze()\n",
      "\u001b[1;31mValueError\u001b[0m: cannot reshape array of size 2000 into shape (600,600,newaxis)"
     ]
    }
   ],
   "source": [
    "# Reconstruct and reshape into 2 channels\n",
    "onset = 100\n",
    "nframes = 10\n",
    "mov = reconstruct(U,SVT[:,onset:onset+nframes]\n",
    "                 ).reshape(nframes,1,*U.shape[:2])\n",
    "# take a look at the differerce between the raw and the reconstructed\n",
    "%matplotlib notebook\n",
    "\n",
    "nb_play_movie((mov*frames_average)+frames_average)# - dat[onset:onset+nframes])"
   ]
  },
  {
   "cell_type": "code",
   "execution_count": 10,
   "metadata": {},
   "outputs": [
    {
     "data": {
      "text/plain": [
       "(200, 5906)"
      ]
     },
     "execution_count": 10,
     "metadata": {},
     "output_type": "execute_result"
    }
   ],
   "source": [
    "SVT.shape"
   ]
  }
 ],
 "metadata": {
  "kernelspec": {
   "display_name": "Python 3 (ipykernel)",
   "language": "python",
   "name": "python3"
  },
  "language_info": {
   "codemirror_mode": {
    "name": "ipython",
    "version": 3
   },
   "file_extension": ".py",
   "mimetype": "text/x-python",
   "name": "python",
   "nbconvert_exporter": "python",
   "pygments_lexer": "ipython3",
   "version": "3.11.8"
  }
 },
 "nbformat": 4,
 "nbformat_minor": 4
}
